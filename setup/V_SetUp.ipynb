{
 "cells": [
  {
   "cell_type": "code",
   "execution_count": 6,
   "metadata": {},
   "outputs": [
    {
     "name": "stdout",
     "output_type": "stream",
     "text": [
      "created virtual environment CPython3.10.6.final.0-64 in 170ms\n",
      "  creator CPython3Posix(dest=/home/v/Desktop/Runtime-qiskit/setup/Qiskit-runtime, clear=False, no_vcs_ignore=False, global=False)\n",
      "  seeder FromAppData(download=False, pip=bundle, setuptools=bundle, wheel=bundle, via=copy, app_data_dir=/home/v/.local/share/virtualenv)\n",
      "    added seed packages: pip==22.0.2, setuptools==59.6.0, wheel==0.37.1\n",
      "  activators BashActivator,CShellActivator,FishActivator,NushellActivator,PowerShellActivator,PythonActivator\n"
     ]
    }
   ],
   "source": [
    "!virtualenv Qiskit-runtime"
   ]
  },
  {
   "cell_type": "code",
   "execution_count": 7,
   "metadata": {},
   "outputs": [],
   "source": [
    "# cd Qiskit-runtime"
   ]
  },
  {
   "cell_type": "code",
   "execution_count": 8,
   "metadata": {},
   "outputs": [
    {
     "name": "stdout",
     "output_type": "stream",
     "text": [
      "zsh:source:1: no such file or directory: bin/activate\n"
     ]
    }
   ],
   "source": [
    "# source bin/activate"
   ]
  },
  {
   "cell_type": "code",
   "execution_count": 14,
   "metadata": {},
   "outputs": [
    {
     "name": "stdout",
     "output_type": "stream",
     "text": [
      "Requirement already satisfied: qiskit in ./generic_state_vqa/lib/python3.10/site-packages (from -r requirements.txt (line 1)) (0.41.0)\n",
      "Requirement already satisfied: PennyLane in ./generic_state_vqa/lib/python3.10/site-packages (from -r requirements.txt (line 2)) (0.28.0)\n",
      "Requirement already satisfied: qiskit-ignis in ./generic_state_vqa/lib/python3.10/site-packages (from -r requirements.txt (line 4)) (0.7.1)\n",
      "Requirement already satisfied: pennylane-qiskit in ./generic_state_vqa/lib/python3.10/site-packages (from -r requirements.txt (line 5)) (0.28.0)\n",
      "Collecting qiskit-ibm-runtime\n",
      "  Using cached qiskit_ibm_runtime-0.9.0-py3-none-any.whl (175 kB)\n",
      "Requirement already satisfied: qiskit-ibmq-provider==0.20.0 in ./generic_state_vqa/lib/python3.10/site-packages (from qiskit->-r requirements.txt (line 1)) (0.20.0)\n",
      "Requirement already satisfied: qiskit-aer==0.11.2 in ./generic_state_vqa/lib/python3.10/site-packages (from qiskit->-r requirements.txt (line 1)) (0.11.2)\n",
      "Requirement already satisfied: qiskit-terra==0.23.1 in ./generic_state_vqa/lib/python3.10/site-packages (from qiskit->-r requirements.txt (line 1)) (0.23.1)\n",
      "Requirement already satisfied: numpy>=1.16.3 in ./generic_state_vqa/lib/python3.10/site-packages (from qiskit-aer==0.11.2->qiskit->-r requirements.txt (line 1)) (1.23.5)\n",
      "Requirement already satisfied: scipy>=1.0 in ./generic_state_vqa/lib/python3.10/site-packages (from qiskit-aer==0.11.2->qiskit->-r requirements.txt (line 1)) (1.10.1)\n",
      "Requirement already satisfied: requests-ntlm>=1.1.0 in ./generic_state_vqa/lib/python3.10/site-packages (from qiskit-ibmq-provider==0.20.0->qiskit->-r requirements.txt (line 1)) (1.2.0)\n",
      "Requirement already satisfied: urllib3>=1.21.1 in ./generic_state_vqa/lib/python3.10/site-packages (from qiskit-ibmq-provider==0.20.0->qiskit->-r requirements.txt (line 1)) (1.26.14)\n",
      "Requirement already satisfied: requests>=2.19 in ./generic_state_vqa/lib/python3.10/site-packages (from qiskit-ibmq-provider==0.20.0->qiskit->-r requirements.txt (line 1)) (2.28.2)\n",
      "Requirement already satisfied: websocket-client<=1.3.3 in ./generic_state_vqa/lib/python3.10/site-packages (from qiskit-ibmq-provider==0.20.0->qiskit->-r requirements.txt (line 1)) (1.3.3)\n",
      "Requirement already satisfied: python-dateutil>=2.8.0 in ./generic_state_vqa/lib/python3.10/site-packages (from qiskit-ibmq-provider==0.20.0->qiskit->-r requirements.txt (line 1)) (2.8.2)\n",
      "Requirement already satisfied: websockets>=10.0 in ./generic_state_vqa/lib/python3.10/site-packages (from qiskit-ibmq-provider==0.20.0->qiskit->-r requirements.txt (line 1)) (10.4)\n",
      "Requirement already satisfied: rustworkx>=0.12.0 in ./generic_state_vqa/lib/python3.10/site-packages (from qiskit-terra==0.23.1->qiskit->-r requirements.txt (line 1)) (0.12.1)\n",
      "Requirement already satisfied: ply>=3.10 in ./generic_state_vqa/lib/python3.10/site-packages (from qiskit-terra==0.23.1->qiskit->-r requirements.txt (line 1)) (3.11)\n",
      "Requirement already satisfied: psutil>=5 in ./generic_state_vqa/lib/python3.10/site-packages (from qiskit-terra==0.23.1->qiskit->-r requirements.txt (line 1)) (5.9.4)\n",
      "Requirement already satisfied: stevedore>=3.0.0 in ./generic_state_vqa/lib/python3.10/site-packages (from qiskit-terra==0.23.1->qiskit->-r requirements.txt (line 1)) (5.0.0)\n",
      "Requirement already satisfied: sympy>=1.3 in ./generic_state_vqa/lib/python3.10/site-packages (from qiskit-terra==0.23.1->qiskit->-r requirements.txt (line 1)) (1.11.1)\n",
      "Requirement already satisfied: symengine>=0.9 in ./generic_state_vqa/lib/python3.10/site-packages (from qiskit-terra==0.23.1->qiskit->-r requirements.txt (line 1)) (0.9.2)\n",
      "Requirement already satisfied: dill>=0.3 in ./generic_state_vqa/lib/python3.10/site-packages (from qiskit-terra==0.23.1->qiskit->-r requirements.txt (line 1)) (0.3.6)\n",
      "Requirement already satisfied: retworkx in ./generic_state_vqa/lib/python3.10/site-packages (from PennyLane->-r requirements.txt (line 2)) (0.12.1)\n",
      "Requirement already satisfied: toml in ./generic_state_vqa/lib/python3.10/site-packages (from PennyLane->-r requirements.txt (line 2)) (0.10.2)\n",
      "Requirement already satisfied: cachetools in ./generic_state_vqa/lib/python3.10/site-packages (from PennyLane->-r requirements.txt (line 2)) (5.3.0)\n",
      "Requirement already satisfied: semantic-version>=2.7 in ./generic_state_vqa/lib/python3.10/site-packages (from PennyLane->-r requirements.txt (line 2)) (2.10.0)\n",
      "Requirement already satisfied: appdirs in ./generic_state_vqa/lib/python3.10/site-packages (from PennyLane->-r requirements.txt (line 2)) (1.4.4)\n",
      "Requirement already satisfied: autoray>=0.3.1 in ./generic_state_vqa/lib/python3.10/site-packages (from PennyLane->-r requirements.txt (line 2)) (0.6.0)\n",
      "Requirement already satisfied: networkx in ./generic_state_vqa/lib/python3.10/site-packages (from PennyLane->-r requirements.txt (line 2)) (3.0)\n",
      "Requirement already satisfied: autograd in ./generic_state_vqa/lib/python3.10/site-packages (from PennyLane->-r requirements.txt (line 2)) (1.5)\n",
      "Requirement already satisfied: pennylane-lightning>=0.28 in ./generic_state_vqa/lib/python3.10/site-packages (from PennyLane->-r requirements.txt (line 2)) (0.28.2)\n",
      "Requirement already satisfied: matplotlib>=2.1 in ./generic_state_vqa/lib/python3.10/site-packages (from qiskit->-r requirements.txt (line 1)) (3.7.0)\n",
      "Requirement already satisfied: seaborn>=0.9.0 in ./generic_state_vqa/lib/python3.10/site-packages (from qiskit->-r requirements.txt (line 1)) (0.12.2)\n",
      "Requirement already satisfied: ipywidgets>=7.3.0 in ./generic_state_vqa/lib/python3.10/site-packages (from qiskit->-r requirements.txt (line 1)) (8.0.4)\n",
      "Requirement already satisfied: pylatexenc>=1.4 in ./generic_state_vqa/lib/python3.10/site-packages (from qiskit->-r requirements.txt (line 1)) (2.10)\n",
      "Requirement already satisfied: pydot in ./generic_state_vqa/lib/python3.10/site-packages (from qiskit->-r requirements.txt (line 1)) (1.4.2)\n",
      "Requirement already satisfied: pygments>=2.4 in ./generic_state_vqa/lib/python3.10/site-packages (from qiskit->-r requirements.txt (line 1)) (2.14.0)\n",
      "Requirement already satisfied: pillow>=4.2.1 in ./generic_state_vqa/lib/python3.10/site-packages (from qiskit->-r requirements.txt (line 1)) (9.4.0)\n",
      "Requirement already satisfied: setuptools>=40.1.0 in ./generic_state_vqa/lib/python3.10/site-packages (from qiskit-ignis->-r requirements.txt (line 4)) (59.6.0)\n",
      "Requirement already satisfied: mthree>=0.17 in ./generic_state_vqa/lib/python3.10/site-packages (from pennylane-qiskit->-r requirements.txt (line 5)) (2.0.0)\n",
      "Collecting ibm-platform-services>=0.22.6\n",
      "  Using cached ibm-platform-services-0.31.1.tar.gz (248 kB)\n",
      "  Installing build dependencies ... \u001b[?25ldone\n",
      "\u001b[?25h  Getting requirements to build wheel ... \u001b[?25ldone\n",
      "\u001b[?25h  Preparing metadata (pyproject.toml) ... \u001b[?25ldone\n",
      "\u001b[?25hRequirement already satisfied: typing-extensions>=4.0.0 in ./generic_state_vqa/lib/python3.10/site-packages (from qiskit-ibm-runtime->-r requirements.txt (line 6)) (4.5.0)\n",
      "Collecting qiskit-ibm-runtime\n",
      "  Downloading qiskit_ibm_runtime-0.8.0-py3-none-any.whl (190 kB)\n",
      "\u001b[2K     \u001b[38;2;114;156;31m━━━━━━━━━━━━━━━━━━━━━━━━━━━━━━━━━━━━━━━\u001b[0m \u001b[32m190.4/190.4 KB\u001b[0m \u001b[31m1.4 MB/s\u001b[0m eta \u001b[36m0:00:00\u001b[0m[31m3.1 MB/s\u001b[0m eta \u001b[36m0:00:01\u001b[0m\n",
      "\u001b[?25hCollecting ibm-cloud-sdk-core<4.0.0,>=3.16.0\n",
      "  Using cached ibm-cloud-sdk-core-3.16.2.tar.gz (50 kB)\n",
      "  Installing build dependencies ... \u001b[?25ldone\n",
      "\u001b[?25h  Getting requirements to build wheel ... \u001b[?25ldone\n",
      "\u001b[?25h  Preparing metadata (pyproject.toml) ... \u001b[?25ldone\n",
      "\u001b[?25hRequirement already satisfied: traitlets>=4.3.1 in ./generic_state_vqa/lib/python3.10/site-packages (from ipywidgets>=7.3.0->qiskit->-r requirements.txt (line 1)) (5.9.0)\n",
      "Requirement already satisfied: widgetsnbextension~=4.0 in ./generic_state_vqa/lib/python3.10/site-packages (from ipywidgets>=7.3.0->qiskit->-r requirements.txt (line 1)) (4.0.5)\n",
      "Requirement already satisfied: ipykernel>=4.5.1 in ./generic_state_vqa/lib/python3.10/site-packages (from ipywidgets>=7.3.0->qiskit->-r requirements.txt (line 1)) (6.21.2)\n",
      "Requirement already satisfied: ipython>=6.1.0 in ./generic_state_vqa/lib/python3.10/site-packages (from ipywidgets>=7.3.0->qiskit->-r requirements.txt (line 1)) (8.10.0)\n",
      "Requirement already satisfied: jupyterlab-widgets~=3.0 in ./generic_state_vqa/lib/python3.10/site-packages (from ipywidgets>=7.3.0->qiskit->-r requirements.txt (line 1)) (3.0.5)\n",
      "Requirement already satisfied: pyparsing>=2.3.1 in ./generic_state_vqa/lib/python3.10/site-packages (from matplotlib>=2.1->qiskit->-r requirements.txt (line 1)) (3.0.9)\n",
      "Requirement already satisfied: kiwisolver>=1.0.1 in ./generic_state_vqa/lib/python3.10/site-packages (from matplotlib>=2.1->qiskit->-r requirements.txt (line 1)) (1.4.4)\n",
      "Requirement already satisfied: fonttools>=4.22.0 in ./generic_state_vqa/lib/python3.10/site-packages (from matplotlib>=2.1->qiskit->-r requirements.txt (line 1)) (4.38.0)\n",
      "Requirement already satisfied: contourpy>=1.0.1 in ./generic_state_vqa/lib/python3.10/site-packages (from matplotlib>=2.1->qiskit->-r requirements.txt (line 1)) (1.0.7)\n",
      "Requirement already satisfied: packaging>=20.0 in ./generic_state_vqa/lib/python3.10/site-packages (from matplotlib>=2.1->qiskit->-r requirements.txt (line 1)) (23.0)\n",
      "Requirement already satisfied: cycler>=0.10 in ./generic_state_vqa/lib/python3.10/site-packages (from matplotlib>=2.1->qiskit->-r requirements.txt (line 1)) (0.11.0)\n",
      "Requirement already satisfied: orjson>=3.0.0 in ./generic_state_vqa/lib/python3.10/site-packages (from mthree>=0.17->pennylane-qiskit->-r requirements.txt (line 5)) (3.8.6)\n",
      "Requirement already satisfied: cython>=0.29 in ./generic_state_vqa/lib/python3.10/site-packages (from mthree>=0.17->pennylane-qiskit->-r requirements.txt (line 5)) (0.29.33)\n",
      "Requirement already satisfied: ninja in ./generic_state_vqa/lib/python3.10/site-packages (from pennylane-lightning>=0.28->PennyLane->-r requirements.txt (line 2)) (1.11.1)\n",
      "Requirement already satisfied: six>=1.5 in ./generic_state_vqa/lib/python3.10/site-packages (from python-dateutil>=2.8.0->qiskit-ibmq-provider==0.20.0->qiskit->-r requirements.txt (line 1)) (1.16.0)\n",
      "Requirement already satisfied: certifi>=2017.4.17 in ./generic_state_vqa/lib/python3.10/site-packages (from requests>=2.19->qiskit-ibmq-provider==0.20.0->qiskit->-r requirements.txt (line 1)) (2022.12.7)\n",
      "Requirement already satisfied: idna<4,>=2.5 in ./generic_state_vqa/lib/python3.10/site-packages (from requests>=2.19->qiskit-ibmq-provider==0.20.0->qiskit->-r requirements.txt (line 1)) (3.4)\n",
      "Requirement already satisfied: charset-normalizer<4,>=2 in ./generic_state_vqa/lib/python3.10/site-packages (from requests>=2.19->qiskit-ibmq-provider==0.20.0->qiskit->-r requirements.txt (line 1)) (3.0.1)\n",
      "Requirement already satisfied: pyspnego>=0.1.6 in ./generic_state_vqa/lib/python3.10/site-packages (from requests-ntlm>=1.1.0->qiskit-ibmq-provider==0.20.0->qiskit->-r requirements.txt (line 1)) (0.8.0)\n",
      "Requirement already satisfied: cryptography>=1.3 in ./generic_state_vqa/lib/python3.10/site-packages (from requests-ntlm>=1.1.0->qiskit-ibmq-provider==0.20.0->qiskit->-r requirements.txt (line 1)) (39.0.1)\n",
      "Requirement already satisfied: pandas>=0.25 in ./generic_state_vqa/lib/python3.10/site-packages (from seaborn>=0.9.0->qiskit->-r requirements.txt (line 1)) (1.5.3)\n",
      "Requirement already satisfied: future>=0.15.2 in ./generic_state_vqa/lib/python3.10/site-packages (from autograd->PennyLane->-r requirements.txt (line 2)) (0.18.3)\n",
      "Requirement already satisfied: cffi>=1.12 in ./generic_state_vqa/lib/python3.10/site-packages (from cryptography>=1.3->requests-ntlm>=1.1.0->qiskit-ibmq-provider==0.20.0->qiskit->-r requirements.txt (line 1)) (1.15.1)\n",
      "Collecting PyJWT<3.0.0,>=2.4.0\n",
      "  Downloading PyJWT-2.6.0-py3-none-any.whl (20 kB)\n",
      "Requirement already satisfied: jupyter-core!=5.0.*,>=4.12 in ./generic_state_vqa/lib/python3.10/site-packages (from ipykernel>=4.5.1->ipywidgets>=7.3.0->qiskit->-r requirements.txt (line 1)) (5.2.0)\n",
      "Requirement already satisfied: pyzmq>=20 in ./generic_state_vqa/lib/python3.10/site-packages (from ipykernel>=4.5.1->ipywidgets>=7.3.0->qiskit->-r requirements.txt (line 1)) (25.0.0)\n",
      "Requirement already satisfied: comm>=0.1.1 in ./generic_state_vqa/lib/python3.10/site-packages (from ipykernel>=4.5.1->ipywidgets>=7.3.0->qiskit->-r requirements.txt (line 1)) (0.1.2)\n",
      "Requirement already satisfied: jupyter-client>=6.1.12 in ./generic_state_vqa/lib/python3.10/site-packages (from ipykernel>=4.5.1->ipywidgets>=7.3.0->qiskit->-r requirements.txt (line 1)) (8.0.3)\n",
      "Requirement already satisfied: debugpy>=1.6.5 in ./generic_state_vqa/lib/python3.10/site-packages (from ipykernel>=4.5.1->ipywidgets>=7.3.0->qiskit->-r requirements.txt (line 1)) (1.6.6)\n",
      "Requirement already satisfied: tornado>=6.1 in ./generic_state_vqa/lib/python3.10/site-packages (from ipykernel>=4.5.1->ipywidgets>=7.3.0->qiskit->-r requirements.txt (line 1)) (6.2)\n",
      "Requirement already satisfied: nest-asyncio in ./generic_state_vqa/lib/python3.10/site-packages (from ipykernel>=4.5.1->ipywidgets>=7.3.0->qiskit->-r requirements.txt (line 1)) (1.5.6)\n",
      "Requirement already satisfied: matplotlib-inline>=0.1 in ./generic_state_vqa/lib/python3.10/site-packages (from ipykernel>=4.5.1->ipywidgets>=7.3.0->qiskit->-r requirements.txt (line 1)) (0.1.6)\n",
      "Requirement already satisfied: jedi>=0.16 in ./generic_state_vqa/lib/python3.10/site-packages (from ipython>=6.1.0->ipywidgets>=7.3.0->qiskit->-r requirements.txt (line 1)) (0.18.2)\n",
      "Requirement already satisfied: decorator in ./generic_state_vqa/lib/python3.10/site-packages (from ipython>=6.1.0->ipywidgets>=7.3.0->qiskit->-r requirements.txt (line 1)) (5.1.1)\n",
      "Requirement already satisfied: pickleshare in ./generic_state_vqa/lib/python3.10/site-packages (from ipython>=6.1.0->ipywidgets>=7.3.0->qiskit->-r requirements.txt (line 1)) (0.7.5)\n",
      "Requirement already satisfied: backcall in ./generic_state_vqa/lib/python3.10/site-packages (from ipython>=6.1.0->ipywidgets>=7.3.0->qiskit->-r requirements.txt (line 1)) (0.2.0)\n",
      "Requirement already satisfied: pexpect>4.3 in ./generic_state_vqa/lib/python3.10/site-packages (from ipython>=6.1.0->ipywidgets>=7.3.0->qiskit->-r requirements.txt (line 1)) (4.8.0)\n",
      "Requirement already satisfied: prompt-toolkit<3.1.0,>=3.0.30 in ./generic_state_vqa/lib/python3.10/site-packages (from ipython>=6.1.0->ipywidgets>=7.3.0->qiskit->-r requirements.txt (line 1)) (3.0.37)\n",
      "Requirement already satisfied: stack-data in ./generic_state_vqa/lib/python3.10/site-packages (from ipython>=6.1.0->ipywidgets>=7.3.0->qiskit->-r requirements.txt (line 1)) (0.6.2)\n",
      "Requirement already satisfied: pytz>=2020.1 in ./generic_state_vqa/lib/python3.10/site-packages (from pandas>=0.25->seaborn>=0.9.0->qiskit->-r requirements.txt (line 1)) (2022.7.1)\n",
      "Requirement already satisfied: pbr!=2.1.0,>=2.0.0 in ./generic_state_vqa/lib/python3.10/site-packages (from stevedore>=3.0.0->qiskit-terra==0.23.1->qiskit->-r requirements.txt (line 1)) (5.11.1)\n",
      "Requirement already satisfied: mpmath>=0.19 in ./generic_state_vqa/lib/python3.10/site-packages (from sympy>=1.3->qiskit-terra==0.23.1->qiskit->-r requirements.txt (line 1)) (1.2.1)\n",
      "Requirement already satisfied: pycparser in ./generic_state_vqa/lib/python3.10/site-packages (from cffi>=1.12->cryptography>=1.3->requests-ntlm>=1.1.0->qiskit-ibmq-provider==0.20.0->qiskit->-r requirements.txt (line 1)) (2.21)\n",
      "Requirement already satisfied: parso<0.9.0,>=0.8.0 in ./generic_state_vqa/lib/python3.10/site-packages (from jedi>=0.16->ipython>=6.1.0->ipywidgets>=7.3.0->qiskit->-r requirements.txt (line 1)) (0.8.3)\n",
      "Requirement already satisfied: platformdirs>=2.5 in ./generic_state_vqa/lib/python3.10/site-packages (from jupyter-core!=5.0.*,>=4.12->ipykernel>=4.5.1->ipywidgets>=7.3.0->qiskit->-r requirements.txt (line 1)) (3.0.0)\n",
      "Requirement already satisfied: ptyprocess>=0.5 in ./generic_state_vqa/lib/python3.10/site-packages (from pexpect>4.3->ipython>=6.1.0->ipywidgets>=7.3.0->qiskit->-r requirements.txt (line 1)) (0.7.0)\n",
      "Requirement already satisfied: wcwidth in ./generic_state_vqa/lib/python3.10/site-packages (from prompt-toolkit<3.1.0,>=3.0.30->ipython>=6.1.0->ipywidgets>=7.3.0->qiskit->-r requirements.txt (line 1)) (0.2.6)\n",
      "Requirement already satisfied: pure-eval in ./generic_state_vqa/lib/python3.10/site-packages (from stack-data->ipython>=6.1.0->ipywidgets>=7.3.0->qiskit->-r requirements.txt (line 1)) (0.2.2)\n",
      "Requirement already satisfied: asttokens>=2.1.0 in ./generic_state_vqa/lib/python3.10/site-packages (from stack-data->ipython>=6.1.0->ipywidgets>=7.3.0->qiskit->-r requirements.txt (line 1)) (2.2.1)\n",
      "Requirement already satisfied: executing>=1.2.0 in ./generic_state_vqa/lib/python3.10/site-packages (from stack-data->ipython>=6.1.0->ipywidgets>=7.3.0->qiskit->-r requirements.txt (line 1)) (1.2.0)\n",
      "Building wheels for collected packages: ibm-platform-services, ibm-cloud-sdk-core\n",
      "  Building wheel for ibm-platform-services (pyproject.toml) ... \u001b[?25ldone\n",
      "\u001b[?25h  Created wheel for ibm-platform-services: filename=ibm_platform_services-0.31.1-py3-none-any.whl size=263974 sha256=bd3c63d31608b4b02b414ede3734255fdabc8b05ad602110419470800cfd7244\n",
      "  Stored in directory: /home/v/.cache/pip/wheels/1c/e2/91/56188870f44d7279a074d8a33de4be1f8ae132e32fd688d9b3\n",
      "  Building wheel for ibm-cloud-sdk-core (pyproject.toml) ... \u001b[?25ldone\n",
      "\u001b[?25h  Created wheel for ibm-cloud-sdk-core: filename=ibm_cloud_sdk_core-3.16.2-py3-none-any.whl size=83556 sha256=09b17e2a27242f4b5310d480f93ea52d87282af459ca25cf8d0fdb1b1b6bd240\n",
      "  Stored in directory: /home/v/.cache/pip/wheels/c9/bc/19/279f07a5c384744c4ef3e2aa0178750bca53f8deb3d8608c3c\n",
      "Successfully built ibm-platform-services ibm-cloud-sdk-core\n",
      "Installing collected packages: PyJWT, ibm-cloud-sdk-core, ibm-platform-services, qiskit-ibm-runtime\n",
      "Successfully installed PyJWT-2.6.0 ibm-cloud-sdk-core-3.16.2 ibm-platform-services-0.31.1 qiskit-ibm-runtime-0.8.0\n"
     ]
    }
   ],
   "source": [
    "!pip install -r requirements.txt"
   ]
  },
  {
   "cell_type": "code",
   "execution_count": 1,
   "metadata": {},
   "outputs": [
    {
     "name": "stdout",
     "output_type": "stream",
     "text": [
      "Looking in indexes: https://pypi.org/simple, https://download.pytorch.org/whl/cpu\n",
      "Collecting torch\n",
      "  Downloading https://download.pytorch.org/whl/cpu/torch-1.13.1%2Bcpu-cp310-cp310-linux_x86_64.whl (199.1 MB)\n",
      "\u001b[2K     \u001b[38;2;114;156;31m━━━━━━━━━━━━━━━━━━━━━━━━━━━━━━━━━━━━━━━\u001b[0m \u001b[32m199.1/199.1 MB\u001b[0m \u001b[31m5.5 MB/s\u001b[0m eta \u001b[36m0:00:00\u001b[0mm eta \u001b[36m0:00:01\u001b[0m[36m0:00:01\u001b[0m\n",
      "\u001b[?25hCollecting torchvision\n",
      "  Downloading https://download.pytorch.org/whl/cpu/torchvision-0.14.1%2Bcpu-cp310-cp310-linux_x86_64.whl (16.8 MB)\n",
      "\u001b[2K     \u001b[38;2;114;156;31m━━━━━━━━━━━━━━━━━━━━━━━━━━━━━━━━━━━━━━━━\u001b[0m \u001b[32m16.8/16.8 MB\u001b[0m \u001b[31m9.4 MB/s\u001b[0m eta \u001b[36m0:00:00\u001b[0m0m eta \u001b[36m0:00:01\u001b[0m[36m0:00:01\u001b[0m\n",
      "\u001b[?25hCollecting torchaudio\n",
      "  Downloading https://download.pytorch.org/whl/cpu/torchaudio-0.13.1%2Bcpu-cp310-cp310-linux_x86_64.whl (4.0 MB)\n",
      "\u001b[2K     \u001b[38;2;114;156;31m━━━━━━━━━━━━━━━━━━━━━━━━━━━━━━━━━━━━━━━━\u001b[0m \u001b[32m4.0/4.0 MB\u001b[0m \u001b[31m8.2 MB/s\u001b[0m eta \u001b[36m0:00:00\u001b[0m0m eta \u001b[36m0:00:01\u001b[0m0:01\u001b[0m:01\u001b[0m\n",
      "\u001b[?25hRequirement already satisfied: typing-extensions in ./Qiskit-runtime/lib/python3.10/site-packages (from torch) (4.5.0)\n",
      "Requirement already satisfied: numpy in ./Qiskit-runtime/lib/python3.10/site-packages (from torchvision) (1.23.5)\n",
      "Requirement already satisfied: pillow!=8.3.*,>=5.3.0 in ./Qiskit-runtime/lib/python3.10/site-packages (from torchvision) (9.4.0)\n",
      "Requirement already satisfied: requests in ./Qiskit-runtime/lib/python3.10/site-packages (from torchvision) (2.28.2)\n",
      "Requirement already satisfied: charset-normalizer<4,>=2 in ./Qiskit-runtime/lib/python3.10/site-packages (from requests->torchvision) (3.0.1)\n",
      "Requirement already satisfied: certifi>=2017.4.17 in ./Qiskit-runtime/lib/python3.10/site-packages (from requests->torchvision) (2022.12.7)\n",
      "Requirement already satisfied: urllib3<1.27,>=1.21.1 in ./Qiskit-runtime/lib/python3.10/site-packages (from requests->torchvision) (1.26.14)\n",
      "Requirement already satisfied: idna<4,>=2.5 in ./Qiskit-runtime/lib/python3.10/site-packages (from requests->torchvision) (3.4)\n",
      "Installing collected packages: torch, torchvision, torchaudio\n",
      "Successfully installed torch-1.13.1+cpu torchaudio-0.13.1+cpu torchvision-0.14.1+cpu\n"
     ]
    }
   ],
   "source": [
    "!pip3 install torch torchvision torchaudio --extra-index-url https://download.pytorch.org/whl/cpu"
   ]
  },
  {
   "cell_type": "code",
   "execution_count": 10,
   "metadata": {},
   "outputs": [
    {
     "ename": "ModuleNotFoundError",
     "evalue": "No module named 'src'",
     "output_type": "error",
     "traceback": [
      "\u001b[0;31m---------------------------------------------------------------------------\u001b[0m",
      "\u001b[0;31mModuleNotFoundError\u001b[0m                       Traceback (most recent call last)",
      "Cell \u001b[0;32mIn[10], line 2\u001b[0m\n\u001b[1;32m      1\u001b[0m \u001b[39m''' CHECK THE SET UP PRINTING THIS CIRCUIT'''\u001b[39;00m\n\u001b[0;32m----> 2\u001b[0m \u001b[39mfrom\u001b[39;00m \u001b[39msrc\u001b[39;00m\u001b[39m.\u001b[39;00m\u001b[39mtools\u001b[39;00m \u001b[39mimport\u001b[39;00m \u001b[39m*\u001b[39m\n\u001b[1;32m      3\u001b[0m \u001b[39mdef\u001b[39;00m \u001b[39mvqa_gen_state\u001b[39m(n_qubits, depht\u001b[39m=\u001b[39m\u001b[39mNone\u001b[39;00m):\n\u001b[1;32m      4\u001b[0m     \u001b[39m#n_qubits = 1\u001b[39;00m\n\u001b[1;32m      5\u001b[0m     \u001b[39mif\u001b[39;00m depht \u001b[39m==\u001b[39m \u001b[39mNone\u001b[39;00m:\n",
      "\u001b[0;31mModuleNotFoundError\u001b[0m: No module named 'src'"
     ]
    }
   ],
   "source": []
  },
  {
   "cell_type": "code",
   "execution_count": null,
   "metadata": {},
   "outputs": [
    {
     "ename": "",
     "evalue": "",
     "output_type": "error",
     "traceback": [
      "\u001b[1;31mThe kernel failed to start as the Python Environment 'Qiskit-runtime' is no longer available. Consider selecting another kernel or refreshing the list of Python Environments."
     ]
    }
   ],
   "source": [
    "from qiskit import IBMQ\n",
    "\n",
    "provider = IBMQ.load_account()\n",
    "provider.runtime.pprint_programs()"
   ]
  },
  {
   "cell_type": "code",
   "execution_count": 13,
   "metadata": {},
   "outputs": [
    {
     "ename": "RuntimeProgramNotFound",
     "evalue": "'Program not found: 404 Client Error: Not Found for url: https://runtime-us-east.quantum-computing.ibm.com/programs/vqe-runtime. {\"errors\":[{\"code\":\"not_found\",\"message\":\"program not found\",\"more_info\":\"https://cloud.ibm.com/apidocs/quantum-computing#error-handling\"}],\"trace\":\"cfr6e5gpvdjqfgq3k0v0\"}'",
     "output_type": "error",
     "traceback": [
      "\u001b[0;31m---------------------------------------------------------------------------\u001b[0m",
      "\u001b[0;31mRuntimeProgramNotFound\u001b[0m                    Traceback (most recent call last)",
      "Cell \u001b[0;32mIn[13], line 1\u001b[0m\n\u001b[0;32m----> 1\u001b[0m program \u001b[39m=\u001b[39m provider\u001b[39m.\u001b[39;49mruntime\u001b[39m.\u001b[39;49mprogram(\u001b[39m'\u001b[39;49m\u001b[39mvqe-runtime\u001b[39;49m\u001b[39m'\u001b[39;49m)\n\u001b[1;32m      2\u001b[0m \u001b[39mprint\u001b[39m(program)\n",
      "File \u001b[0;32m~/Desktop/Qiskit/generic_state_vqa/lib/python3.10/site-packages/qiskit/providers/ibmq/runtime/ibm_runtime_service.py:192\u001b[0m, in \u001b[0;36mIBMRuntimeService.program\u001b[0;34m(self, program_id, refresh)\u001b[0m\n\u001b[1;32m    190\u001b[0m \u001b[39mexcept\u001b[39;00m RequestsApiError \u001b[39mas\u001b[39;00m ex:\n\u001b[1;32m    191\u001b[0m     \u001b[39mif\u001b[39;00m ex\u001b[39m.\u001b[39mstatus_code \u001b[39m==\u001b[39m \u001b[39m404\u001b[39m:\n\u001b[0;32m--> 192\u001b[0m         \u001b[39mraise\u001b[39;00m RuntimeProgramNotFound(\u001b[39mf\u001b[39m\u001b[39m\"\u001b[39m\u001b[39mProgram not found: \u001b[39m\u001b[39m{\u001b[39;00mex\u001b[39m.\u001b[39mmessage\u001b[39m}\u001b[39;00m\u001b[39m\"\u001b[39m) \u001b[39mfrom\u001b[39;00m \u001b[39mNone\u001b[39m\n\u001b[1;32m    193\u001b[0m     \u001b[39mraise\u001b[39;00m QiskitRuntimeError(\u001b[39mf\u001b[39m\u001b[39m\"\u001b[39m\u001b[39mFailed to get program: \u001b[39m\u001b[39m{\u001b[39;00mex\u001b[39m}\u001b[39;00m\u001b[39m\"\u001b[39m) \u001b[39mfrom\u001b[39;00m \u001b[39mNone\u001b[39m\n\u001b[1;32m    195\u001b[0m \u001b[39mself\u001b[39m\u001b[39m.\u001b[39m_programs[program_id] \u001b[39m=\u001b[39m \u001b[39mself\u001b[39m\u001b[39m.\u001b[39m_to_program(response)\n",
      "\u001b[0;31mRuntimeProgramNotFound\u001b[0m: 'Program not found: 404 Client Error: Not Found for url: https://runtime-us-east.quantum-computing.ibm.com/programs/vqe-runtime. {\"errors\":[{\"code\":\"not_found\",\"message\":\"program not found\",\"more_info\":\"https://cloud.ibm.com/apidocs/quantum-computing#error-handling\"}],\"trace\":\"cfr6e5gpvdjqfgq3k0v0\"}'"
     ]
    }
   ],
   "source": [
    "\n",
    "program = provider.runtime.program('vqe-runtime')\n",
    "print(program)"
   ]
  },
  {
   "cell_type": "code",
   "execution_count": null,
   "metadata": {},
   "outputs": [],
   "source": []
  }
 ],
 "metadata": {
  "kernelspec": {
   "display_name": "Qiskit-runtime",
   "language": "python",
   "name": "python3"
  },
  "language_info": {
   "codemirror_mode": {
    "name": "ipython",
    "version": 3
   },
   "file_extension": ".py",
   "mimetype": "text/x-python",
   "name": "python",
   "nbconvert_exporter": "python",
   "pygments_lexer": "ipython3",
   "version": "3.10.6"
  },
  "vscode": {
   "interpreter": {
    "hash": "4ffdcd001bf02390afaabfc4e9ff50a95ddb5332c5b2ff5420546cf3fa5a35b7"
   }
  }
 },
 "nbformat": 4,
 "nbformat_minor": 4
}
