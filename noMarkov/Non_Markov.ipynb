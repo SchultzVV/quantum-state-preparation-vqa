{
 "cells": [
  {
   "cell_type": "code",
   "execution_count": 1,
   "metadata": {},
   "outputs": [],
   "source": [
    "from sympy import *\n",
    "import numpy as np\n",
    "\n",
    "init_printing(use_unicode=True)\n",
    "from matplotlib import pyplot as plt\n",
    "%matplotlib inline\n",
    "from sympy.physics.quantum.dagger import Dagger\n",
    "from sympy.physics.quantum import TensorProduct\n",
    "import scipy.interpolate\n",
    "import platform\n",
    "\n"
   ]
  },
  {
   "cell_type": "code",
   "execution_count": 2,
   "metadata": {},
   "outputs": [],
   "source": [
    "import numpy as np\n",
    "from matplotlib import pyplot as plt\n",
    "import matplotlib"
   ]
  },
  {
   "cell_type": "code",
   "execution_count": 3,
   "metadata": {},
   "outputs": [],
   "source": [
    "def id(n): \n",
    "    '''retorna a matriz identidade nxn'''\n",
    "    id = zeros(n,n)\n",
    "    for j in range(0,n):\n",
    "       id[j,j] = 1\n",
    "    return id\n",
    "#id(2)"
   ]
  },
  {
   "cell_type": "code",
   "execution_count": 4,
   "metadata": {},
   "outputs": [],
   "source": [
    "def cb(d, j):\n",
    "    cbs = zeros(d,1); cbs[j] = 1\n",
    "    return cbs\n"
   ]
  },
  {
   "cell_type": "code",
   "execution_count": 5,
   "metadata": {},
   "outputs": [],
   "source": [
    "# Outside this function, initialize: evals = zeros(d,1)\n",
    "def eVals(A):\n",
    "    d = A.shape[0]; evals = zeros(d,1)\n",
    "    eig = A.eigenvects()\n",
    "    ne = 0\n",
    "    j = 0\n",
    "    lk = 0\n",
    "    while ne < d:\n",
    "        mult = eig[j][1]\n",
    "        ne += mult\n",
    "        nk = lk + mult\n",
    "        for k in range(lk,nk):\n",
    "            evals[k] = eig[j][0]\n",
    "        lk = nk\n",
    "        j += 1\n",
    "    return evals"
   ]
  },
  {
   "cell_type": "code",
   "execution_count": 6,
   "metadata": {},
   "outputs": [],
   "source": [
    "def mat_sqrt(A):\n",
    "    d = A.shape[0]; eig = A.eigenvects(); Asqrt = zeros(d,d); ne = 0; j = 0; lk = 0\n",
    "    while ne < d:\n",
    "        mult = eig[j][1]; ne += mult\n",
    "        for k in range(0,mult):\n",
    "            Proj = proj(eig[j][2][k]); Asqrt += sqrt(eig[j][0])*(Proj/trace(Proj))\n",
    "        j += 1\n",
    "    return Asqrt\n",
    "#mat_sqrt(pauli(3))"
   ]
  },
  {
   "cell_type": "code",
   "execution_count": 7,
   "metadata": {},
   "outputs": [],
   "source": [
    "def proj(psi):\n",
    "    return psi*Dagger(psi)"
   ]
  },
  {
   "cell_type": "code",
   "execution_count": 8,
   "metadata": {},
   "outputs": [],
   "source": [
    "def tp(x,y):\n",
    "    return TensorProduct(x,y)"
   ]
  },
  {
   "cell_type": "code",
   "execution_count": 9,
   "metadata": {},
   "outputs": [],
   "source": [
    "def trace(A):\n",
    "    d = A.shape[0]; tr = 0.0\n",
    "    for j in range(0,d):\n",
    "       tr += A[j,j]\n",
    "    return tr"
   ]
  },
  {
   "cell_type": "code",
   "execution_count": 10,
   "metadata": {},
   "outputs": [],
   "source": [
    "#def trace(d,A):\n",
    "#    tr = 0\n",
    "#    for j in range(0,d):\n",
    "#        tr += A[j,j]\n",
    "#    return tr"
   ]
  },
  {
   "cell_type": "code",
   "execution_count": 11,
   "metadata": {},
   "outputs": [],
   "source": [
    "def Var(d,x,y):\n",
    "    return trace(d,x*(y*y))-(trace(d,x*y))**2"
   ]
  },
  {
   "cell_type": "code",
   "execution_count": 12,
   "metadata": {},
   "outputs": [],
   "source": [
    "def comm(x,y):\n",
    "    return x*y-y*x"
   ]
  },
  {
   "cell_type": "code",
   "execution_count": 13,
   "metadata": {},
   "outputs": [],
   "source": [
    "def mat_exp(A):\n",
    "    d = A.shape[0]; eig = A.eigenvects(); Aexp = zeros(d,d); ne = 0; j = 0; lk = 0\n",
    "    while ne < d:\n",
    "        mult = eig[j][1]; ne += mult\n",
    "        for k in range(0,mult):\n",
    "            Proj = proj(eig[j][2][k]); Aexp += exp(eig[j][0])*(Proj/trace(Proj))\n",
    "        j += 1\n",
    "    return Aexp\n",
    "#simplify(mat_exp(pauli(1)))"
   ]
  },
  {
   "cell_type": "code",
   "execution_count": 14,
   "metadata": {},
   "outputs": [],
   "source": [
    "tha = symbols(' theta_a ', real=True, positive=True)\n",
    "thb = symbols(' theta_b ', real=True, positive=True)\n",
    "def psiA(tha):\n",
    "    return cos(tha/2)*cb(2, 0) + sin(tha/2)*cb(2, 1)\n",
    "def psiB(thb):\n",
    "    return cos(thb/2)*cb(2, 0) + sin(thb/2)*cb(2, 1)\n",
    "def PsiAB(tha,thb):\n",
    "    return tp((cos(tha/2)*cb(2, 0) + sin(tha/2)*cb(2, 1)),(cos(thb/2)*cb(2, 0) + sin(thb/2)*cb(2, 1)))"
   ]
  },
  {
   "cell_type": "code",
   "execution_count": 15,
   "metadata": {},
   "outputs": [],
   "source": [
    "def normTr(d, A):\n",
    "    eva = eVals(d, A)\n",
    "    TrNorm = 0\n",
    "    for j in range(0,d):\n",
    "        TrNorm += abs(eva[j])\n",
    "    return TrNorm"
   ]
  },
  {
   "cell_type": "code",
   "execution_count": 16,
   "metadata": {},
   "outputs": [],
   "source": [
    "def norm_tr(A):\n",
    "    d = A.shape[0]; eva = eVals(A)\n",
    "    TrNorm = 0\n",
    "    for j in range(0,d):\n",
    "        TrNorm += abs(eva[j])\n",
    "    return TrNorm"
   ]
  },
  {
   "cell_type": "code",
   "execution_count": 17,
   "metadata": {},
   "outputs": [],
   "source": [
    "def mat_sqrt(A):\n",
    "    d = A.shape[0]; eig = A.eigenvects()\n",
    "    Asqrt = zeros(d,d)\n",
    "    ne = 0\n",
    "    j = 0\n",
    "    lk = 0\n",
    "    while ne < d:\n",
    "        mult = eig[j][1]\n",
    "        ne += mult\n",
    "        for k in range(0,mult):\n",
    "            Proj = proj(eig[j][2][k])\n",
    "            Asqrt += sqrt(eig[j][0])*(Proj/trace(Proj))\n",
    "        j += 1\n",
    "    return Asqrt"
   ]
  },
  {
   "cell_type": "code",
   "execution_count": 18,
   "metadata": {},
   "outputs": [],
   "source": [
    "#def mat_sqrt(d,A):\n",
    "#    eig = A.eigenvects()\n",
    "#    Asqrt = zeros(d,d)\n",
    "#    ne = 0\n",
    "#    j = 0\n",
    "#    lk = 0\n",
    "#    while ne < d:\n",
    "#        mult = eig[j][1]\n",
    "#        ne += mult\n",
    "#        for k in range(0,mult):\n",
    "#            Proj = proj(eig[j][2][k])\n",
    "#            Asqrt += sqrt(eig[j][0])*(Proj/trace(d,Proj))\n",
    "#        j += 1\n",
    "#    return Asqrt"
   ]
  },
  {
   "cell_type": "code",
   "execution_count": 19,
   "metadata": {},
   "outputs": [],
   "source": [
    "Mais=(cb(2,0)+cb(2,1))/sqrt(2)\n",
    "Menos=(cb(2,0)-cb(2,1))/sqrt(2)"
   ]
  },
  {
   "cell_type": "code",
   "execution_count": 20,
   "metadata": {},
   "outputs": [],
   "source": [
    "def Pauli(j):\n",
    "    if j == 0:\n",
    "        return Matrix([[1,0],[0,1]])\n",
    "    elif j == 1:\n",
    "        return Matrix([[0,1],[1,0]])\n",
    "    elif j == 2:\n",
    "        return Matrix([[0,-1j],[1j,0]])\n",
    "    elif j == 3:\n",
    "        return Matrix([[1,0],[0,-1]])"
   ]
  },
  {
   "cell_type": "code",
   "execution_count": 28,
   "metadata": {},
   "outputs": [],
   "source": [
    "a1,a2,a3,b1,b2,b3 = symbols('a_{1} a_{2} a_{3} b_{1} b_{2} b_{3}', real=True)\n",
    "c11,c12,c13,c21,c22,c23,c31,c32,c33 = symbols('c_{11} c_{12} c_{13} c_{21} c_{22} c_{23} c_{31} c_{32} c_{33}', real=True)\n",
    "def rho2qb(a1, a2, a3, b1, b2, b3, c11, c12, c13, c21, c22, c23, c31, c32, c33):\n",
    "    return ((tp(Pauli(0),Pauli(0)) + b1*tp(Pauli(0),Pauli(1)) + b2*tp(Pauli(0),Pauli(2)) + b3*tp(Pauli(0),Pauli(3))\n",
    "           + a1*tp(Pauli(1),Pauli(0)) + c11*tp(Pauli(1),Pauli(1)) + c12*tp(Pauli(1),Pauli(2)) + c13*tp(Pauli(1),Pauli(3))\n",
    "           + a2*tp(Pauli(2),Pauli(0)) + c21*tp(Pauli(2),Pauli(1)) + c22*tp(Pauli(2),Pauli(2)) + c23*tp(Pauli(2),Pauli(3))\n",
    "           + a3*tp(Pauli(3),Pauli(0)) + c31*tp(Pauli(3),Pauli(1)) + c32*tp(Pauli(3),Pauli(2)) + c33*tp(Pauli(3),Pauli(3))))/4\n",
    "\n",
    "#def rho2qb(CM):\n",
    " #   return ((tp(Pauli(0),Pauli(0)) + CM[0,1]*tp(Pauli(0),Pauli(1)) + CM[0,2]*tp(Pauli(0),Pauli(2)) + CM[0,3]*tp(Pauli(0),Pauli(3))\n",
    "  #         + CM[1,0]*tp(Pauli(1),Pauli(0)) + CM[1,1]*tp(Pauli(1),Pauli(1)) + CM[1,2]*tp(Pauli(1),Pauli(2)) + CM[1,3]*tp(Pauli(1),Pauli(3))\n",
    "   #        + CM[2,0]*tp(Pauli(2),Pauli(0)) + CM[2,1]*tp(Pauli(2),Pauli(1)) + CM[2,2]*tp(Pauli(2),Pauli(2)) + CM[2,3]*tp(Pauli(2),Pauli(3))\n",
    "    #       + CM[3,0]*tp(Pauli(3),Pauli(0)) + CM[3,1]*tp(Pauli(3),Pauli(1)) + CM[3,2]*tp(Pauli(3),Pauli(2)) + CM[3,3]*tp(Pauli(3),Pauli(3))))/4"
   ]
  },
  {
   "cell_type": "code",
   "execution_count": 29,
   "metadata": {},
   "outputs": [
    {
     "data": {
      "image/png": "[encoded data removed]",
      "text/latex": [
       "$\\displaystyle \\left[\\begin{matrix}r_{3} & a_{1} & a_{2} & r_{1} - 1.0 r_{2}\\\\a_{1} & - r_{3} & r_{1} + 1.0 r_{2} & - a_{2}\\\\a_{2} & r_{1} + 1.0 r_{2} & - r_{3} & - a_{1}\\\\r_{1} - 1.0 r_{2} & - a_{2} & - a_{1} & r_{3}\\end{matrix}\\right]$"
      ],
      "text/plain": [
       "⎡    r_{3}            a_{1}              a_{2}        r_{1} - r_{2}⎤\n",
       "⎢                                                                  ⎥\n",
       "⎢    a_{1}           -r_{3}        r_{1} + 1.0⋅r_{2}     -a_{2}    ⎥\n",
       "⎢                                                                  ⎥\n",
       "⎢    a_{2}      r_{1} + 1.0⋅r_{2}       -r_{3}           -a_{1}    ⎥\n",
       "⎢                                                                  ⎥\n",
       "⎣r_{1} - r_{2}       -a_{2}             -a_{1}            r_{3}    ⎦"
      ]
     },
     "execution_count": 29,
     "metadata": {},
     "output_type": "execute_result"
    }
   ],
   "source": [
    "r1*tp(Pauli(1),Pauli(1)) +r2*tp(Pauli(2),Pauli(2)) +r3*tp(Pauli(3),Pauli(3)) + a1*tp(Pauli(3),Pauli(1)) +a2*tp(Pauli(1),Pauli(3))"
   ]
  },
  {
   "cell_type": "code",
   "execution_count": 22,
   "metadata": {},
   "outputs": [],
   "source": [
    "r1, r2, r3 = symbols('r_{1} r_{2} r_{3}', real=True)\n",
    "def rho1qb(r1, r2, r3):\n",
    "    return ((Pauli(0) + r1*Pauli(1) + r2*Pauli(2) + r3*Pauli(3)))/2"
   ]
  },
  {
   "cell_type": "code",
   "execution_count": 24,
   "metadata": {},
   "outputs": [],
   "source": [
    "def Bell(j,k):\n",
    "    if j == 0 and k == 0:\n",
    "        return Matrix([[1/sqrt(2)],[0],[0],[1/sqrt(2)]]) # phi+\n",
    "    elif j == 0 and k == 1:\n",
    "        return Matrix([[0],[1/sqrt(2)],[1/sqrt(2)],[0]]) # psi+\n",
    "    elif j == 1 and k == 0:\n",
    "        return Matrix([[1/sqrt(2)],[0],[0],[-1/sqrt(2)]]) # phi-\n",
    "    elif j == 1 and k == 1:\n",
    "        return Matrix([[0],[1/sqrt(2)],[-1/sqrt(2)],[0]]) # psi-"
   ]
  },
  {
   "cell_type": "code",
   "execution_count": 26,
   "metadata": {},
   "outputs": [
    {
     "data": {
      "image/png": "[encoded data removed]",
      "text/latex": [
       "$\\displaystyle \\left[\\begin{matrix}0.25 a_{3} + 0.25 b_{3} + 0.25 c_{3} + 0.25 & 0 & 0 & 0.25 c_{1} - 0.25 c_{2}\\\\0 & - 0.25 a_{3} + 0.25 b_{3} - 0.25 c_{3} + 0.25 & 0.25 c_{1} + 0.25 c_{2} & 0\\\\0 & 0.25 c_{1} + 0.25 c_{2} & 0.25 a_{3} - 0.25 b_{3} - 0.25 c_{3} + 0.25 & 0\\\\0.25 c_{1} - 0.25 c_{2} & 0 & 0 & - 0.25 a_{3} - 0.25 b_{3} + 0.25 c_{3} + 0.25\\end{matrix}\\right]$"
      ],
      "text/plain": [
       "⎡0.25⋅a₃ + 0.25⋅b₃ + 0.25⋅c_{3} + 0.25                    0                   \n",
       "⎢                                                                             \n",
       "⎢                  0                    -0.25⋅a₃ + 0.25⋅b₃ - 0.25⋅c_{3} + 0.25\n",
       "⎢                                                                             \n",
       "⎢                  0                           0.25⋅c_{1} + 0.25⋅c_{2}        \n",
       "⎢                                                                             \n",
       "⎣       0.25⋅c_{1} - 0.25⋅c_{2}                           0                   \n",
       "\n",
       "                    0                           0.25⋅c_{1} - 0.25⋅c_{2}       \n",
       "                                                                              \n",
       "         0.25⋅c_{1} + 0.25⋅c_{2}                           0                  \n",
       "                                                                              \n",
       "  0.25⋅a₃ - 0.25⋅b₃ - 0.25⋅c_{3} + 0.25                    0                  \n",
       "                                                                              \n",
       "                    0                    -0.25⋅a₃ - 0.25⋅b₃ + 0.25⋅c_{3} + 0.2\n",
       "\n",
       " ⎤\n",
       " ⎥\n",
       " ⎥\n",
       " ⎥\n",
       " ⎥\n",
       " ⎥\n",
       "5⎦"
      ]
     },
     "execution_count": 26,
     "metadata": {},
     "output_type": "execute_result"
    }
   ],
   "source": [
    "def rho_x(c1,c2,c3,a3,b3):\n",
    "    return (1/4)*(tp(id(2),id(2))+c1*tp(Pauli(1),Pauli(1))+c2*tp(Pauli(2),Pauli(2))+c3*tp(Pauli(3),Pauli(3))\n",
    "                  +a3*tp(id(2),Pauli(3))+b3*tp(Pauli(3),id(2)))\n",
    "c1, c2, c3, a3, b3 = symbols('c_{1} c_{2} c_{3} a_3 b_3', real=True)\n",
    "rhox = rho_x(c1,c2,c3,a3,b3); rhox"
   ]
  },
  {
   "cell_type": "code",
   "execution_count": null,
   "metadata": {},
   "outputs": [],
   "source": []
  },
  {
   "cell_type": "code",
   "execution_count": 30,
   "metadata": {},
   "outputs": [
    {
     "data": {
      "image/png": "[encoded data removed]",
      "text/latex": [
       "$\\displaystyle \\left[\\begin{matrix}0.25 c_{1} + 0.25 & 0.25 c_{1} & 0.25 c_{1} & 0\\\\0.25 c_{1} & 0.25 - 0.25 c_{1} & 0.5 c_{1} & 0.25 c_{1}\\\\0.25 c_{1} & 0.5 c_{1} & 0.25 - 0.25 c_{1} & 0.25 c_{1}\\\\0 & 0.25 c_{1} & 0.25 c_{1} & 0.25 c_{1} + 0.25\\end{matrix}\\right]$"
      ],
      "text/plain": [
       "⎡0.25⋅c_{1} + 0.25     0.25⋅c_{1}         0.25⋅c_{1}              0        ⎤\n",
       "⎢                                                                          ⎥\n",
       "⎢   0.25⋅c_{1}      0.25 - 0.25⋅c_{1}      0.5⋅c_{1}         0.25⋅c_{1}    ⎥\n",
       "⎢                                                                          ⎥\n",
       "⎢   0.25⋅c_{1}          0.5⋅c_{1}      0.25 - 0.25⋅c_{1}     0.25⋅c_{1}    ⎥\n",
       "⎢                                                                          ⎥\n",
       "⎣        0             0.25⋅c_{1}         0.25⋅c_{1}      0.25⋅c_{1} + 0.25⎦"
      ]
     },
     "execution_count": 30,
     "metadata": {},
     "output_type": "execute_result"
    }
   ],
   "source": [
    "def rho_bd_x(c1,c2,c3,a1,b1,a3,b3):\n",
    "    return (1/4)*(tp(id(2),id(2))+c1*tp(Pauli(1),Pauli(1))+c2*tp(Pauli(2),Pauli(2))+c3*tp(Pauli(3),Pauli(3))\n",
    "                  +b1*tp(id(2),Pauli(1))+a1*tp(Pauli(1),id(2))+b3*tp(id(2),Pauli(3))+a3*tp(Pauli(3),id(2)))\n",
    "c1, c2, c3, a1, b1, a3, b3 = symbols('c_{1} c_{2} c_{3} a_1 b_1 a_3 b_3', real=True)\n",
    "rho_bd_x = rho_bd_x(c1,c1,c1,c1,c1,0,0); rho_bd_x"
   ]
  },
  {
   "cell_type": "code",
   "execution_count": 31,
   "metadata": {},
   "outputs": [
    {
     "data": {
      "image/png": "[encoded data removed]",
      "text/latex": [
       "$\\displaystyle \\left[ \\left( 0.25 - 0.75 c_{1}, \\  1, \\  \\left[ \\left[\\begin{matrix}0\\\\-1.0\\\\1.0\\\\0\\end{matrix}\\right]\\right]\\right), \\  \\left( 0.25 - 0.25 c_{1}, \\  1, \\  \\left[ \\left[\\begin{matrix}1.0\\\\-1.0\\\\-1.0\\\\1.0\\end{matrix}\\right]\\right]\\right), \\  \\left( 0.25 c_{1} + 0.25, \\  1, \\  \\left[ \\left[\\begin{matrix}-1.0\\\\0\\\\0\\\\1.0\\end{matrix}\\right]\\right]\\right), \\  \\left( 0.75 c_{1} + 0.25, \\  1, \\  \\left[ \\left[\\begin{matrix}1.0\\\\1.0\\\\1.0\\\\1.0\\end{matrix}\\right]\\right]\\right)\\right]$"
      ],
      "text/plain": [
       "⎡⎛                      ⎡⎡ 0  ⎤⎤⎞  ⎛                      ⎡⎡1.0 ⎤⎤⎞  ⎛        \n",
       "⎢⎜                      ⎢⎢    ⎥⎥⎟  ⎜                      ⎢⎢    ⎥⎥⎟  ⎜        \n",
       "⎢⎜                      ⎢⎢-1.0⎥⎥⎟  ⎜                      ⎢⎢-1.0⎥⎥⎟  ⎜        \n",
       "⎢⎜0.25 - 0.75⋅c_{1}, 1, ⎢⎢    ⎥⎥⎟, ⎜0.25 - 0.25⋅c_{1}, 1, ⎢⎢    ⎥⎥⎟, ⎜0.25⋅c_{\n",
       "⎢⎜                      ⎢⎢1.0 ⎥⎥⎟  ⎜                      ⎢⎢-1.0⎥⎥⎟  ⎜        \n",
       "⎢⎜                      ⎢⎢    ⎥⎥⎟  ⎜                      ⎢⎢    ⎥⎥⎟  ⎜        \n",
       "⎣⎝                      ⎣⎣ 0  ⎦⎦⎠  ⎝                      ⎣⎣1.0 ⎦⎦⎠  ⎝        \n",
       "\n",
       "              ⎡⎡-1.0⎤⎤⎞  ⎛                      ⎡⎡1.0⎤⎤⎞⎤\n",
       "              ⎢⎢    ⎥⎥⎟  ⎜                      ⎢⎢   ⎥⎥⎟⎥\n",
       "              ⎢⎢ 0  ⎥⎥⎟  ⎜                      ⎢⎢1.0⎥⎥⎟⎥\n",
       "1} + 0.25, 1, ⎢⎢    ⎥⎥⎟, ⎜0.75⋅c_{1} + 0.25, 1, ⎢⎢   ⎥⎥⎟⎥\n",
       "              ⎢⎢ 0  ⎥⎥⎟  ⎜                      ⎢⎢1.0⎥⎥⎟⎥\n",
       "              ⎢⎢    ⎥⎥⎟  ⎜                      ⎢⎢   ⎥⎥⎟⎥\n",
       "              ⎣⎣1.0 ⎦⎦⎠  ⎝                      ⎣⎣1.0⎦⎦⎠⎦"
      ]
     },
     "execution_count": 31,
     "metadata": {},
     "output_type": "execute_result"
    }
   ],
   "source": [
    "rho_bd_x.eigenvects()"
   ]
  },
  {
   "cell_type": "code",
   "execution_count": 94,
   "metadata": {},
   "outputs": [
    {
     "data": {
      "image/png": "[encoded data removed]",
      "text/latex": [
       "$\\displaystyle \\left[\\begin{matrix}\\frac{c_{1}}{4} + \\frac{1}{4} & \\frac{c_{1}}{4} & \\frac{c_{1}}{4} & 0\\\\\\frac{c_{1}}{4} & \\frac{1}{4} - \\frac{c_{1}}{4} & \\frac{c_{1}}{2} & \\frac{c_{1}}{4}\\\\\\frac{c_{1}}{4} & \\frac{c_{1}}{2} & \\frac{1}{4} - \\frac{c_{1}}{4} & \\frac{c_{1}}{4}\\\\0 & \\frac{c_{1}}{4} & \\frac{c_{1}}{4} & \\frac{c_{1}}{4} + \\frac{1}{4}\\end{matrix}\\right]$"
      ],
      "text/plain": [
       "⎡c_{1}   1    c_{1}      c_{1}             ⎤\n",
       "⎢───── + ─    ─────      ─────        0    ⎥\n",
       "⎢  4     4      4          4               ⎥\n",
       "⎢                                          ⎥\n",
       "⎢  c_{1}    1   c_{1}    c_{1}      c_{1}  ⎥\n",
       "⎢  ─────    ─ - ─────    ─────      ─────  ⎥\n",
       "⎢    4      4     4        2          4    ⎥\n",
       "⎢                                          ⎥\n",
       "⎢  c_{1}      c_{1}    1   c_{1}    c_{1}  ⎥\n",
       "⎢  ─────      ─────    ─ - ─────    ─────  ⎥\n",
       "⎢    4          2      4     4        4    ⎥\n",
       "⎢                                          ⎥\n",
       "⎢             c_{1}      c_{1}    c_{1}   1⎥\n",
       "⎢    0        ─────      ─────    ───── + ─⎥\n",
       "⎣               4          4        4     4⎦"
      ]
     },
     "execution_count": 94,
     "metadata": {},
     "output_type": "execute_result"
    }
   ],
   "source": [
    "def rho_thermal(c1,c3,beta):\n",
    "    return (((1+3*c1+c3)/4)*proj(tp(Mais,Mais))+((1+c1+3*c3)/4)*proj(Bell(1,0))+((1-c1-3*c3)/4)*proj(tp(Menos,Menos))+((1-3*c1+c3)/4)*proj(Bell(1,1)))/trace(((1+3*c1+c3)/4)*proj(tp(Mais,Mais))+((1+c1+3*c3)/4)*proj(Bell(1,0))+((1-c1-3*c3)/4)*proj(tp(Menos,Menos))+((1-3*c1+c3)/4)*proj(Bell(1,1)))\n",
    "\n",
    "simplify(rho_thermal(c1,0,beta))"
   ]
  },
  {
   "cell_type": "code",
   "execution_count": 34,
   "metadata": {},
   "outputs": [
    {
     "data": {
      "image/png": "[encoded data removed]",
      "text/latex": [
       "$\\displaystyle \\left[\\begin{matrix}3 J & 0 & 0 & 0\\\\0 & - J & 2.0 J & 0\\\\0 & 2.0 J & - J & 0\\\\0 & 0 & 0 & - J\\end{matrix}\\right]$"
      ],
      "text/plain": [
       "⎡3⋅J    0      0    0 ⎤\n",
       "⎢                     ⎥\n",
       "⎢ 0    -J    2.0⋅J  0 ⎥\n",
       "⎢                     ⎥\n",
       "⎢ 0   2.0⋅J   -J    0 ⎥\n",
       "⎢                     ⎥\n",
       "⎣ 0     0      0    -J⎦"
      ]
     },
     "execution_count": 34,
     "metadata": {},
     "output_type": "execute_result"
    }
   ],
   "source": [
    "J1, J2, J3, J = symbols('J_{1} J_{2} J_{3} J', real=True)\n",
    "H_Heis = J*tp(Pauli(1),Pauli(1)) + J*tp(Pauli(2),Pauli(2)) + J*tp(Pauli(3),Pauli(3)) + J*tp(Pauli(0),Pauli(3)) + J*tp(Pauli(3),Pauli(0));H_Heis"
   ]
  },
  {
   "cell_type": "code",
   "execution_count": 37,
   "metadata": {},
   "outputs": [
    {
     "data": {
      "image/png": "[encoded data removed]",
      "text/latex": [
       "$\\displaystyle \\left[\\begin{matrix}\\frac{e^{2 J \\beta} + 1}{4 \\left(e^{4 J \\beta} + 1\\right)} & \\frac{1 - e^{2 J \\beta}}{4 \\left(e^{4 J \\beta} + 1\\right)} & \\frac{1 - e^{2 J \\beta}}{4 \\left(e^{4 J \\beta} + 1\\right)} & \\frac{e^{4 J \\beta} - 2 e^{2 J \\beta} + 1}{4 \\left(\\left(e^{2 J \\beta} + 1\\right) e^{4 J \\beta} + e^{2 J \\beta} + 1\\right)}\\\\\\frac{1 - e^{2 J \\beta}}{4 \\left(e^{4 J \\beta} + 1\\right)} & \\frac{2 e^{4 J \\beta} - e^{2 J \\beta} + 1}{4 \\left(e^{4 J \\beta} + 1\\right)} & \\frac{- \\frac{e^{6 J \\beta}}{2} + \\frac{e^{4 J \\beta}}{4} + \\frac{1}{4}}{e^{6 J \\beta} + e^{4 J \\beta} + e^{2 J \\beta} + 1} & \\frac{1 - e^{2 J \\beta}}{4 \\left(e^{4 J \\beta} + 1\\right)}\\\\\\frac{1 - e^{2 J \\beta}}{4 \\left(e^{4 J \\beta} + 1\\right)} & \\frac{- \\frac{e^{6 J \\beta}}{2} + \\frac{e^{4 J \\beta}}{4} + \\frac{1}{4}}{e^{6 J \\beta} + e^{4 J \\beta} + e^{2 J \\beta} + 1} & \\frac{2 e^{4 J \\beta} - e^{2 J \\beta} + 1}{4 \\left(e^{4 J \\beta} + 1\\right)} & \\frac{1 - e^{2 J \\beta}}{4 \\left(e^{4 J \\beta} + 1\\right)}\\\\\\frac{e^{4 J \\beta} - 2 e^{2 J \\beta} + 1}{4 \\left(\\left(e^{2 J \\beta} + 1\\right) e^{4 J \\beta} + e^{2 J \\beta} + 1\\right)} & \\frac{1 - e^{2 J \\beta}}{4 \\left(e^{4 J \\beta} + 1\\right)} & \\frac{1 - e^{2 J \\beta}}{4 \\left(e^{4 J \\beta} + 1\\right)} & \\frac{e^{2 J \\beta} + 1}{4 \\left(e^{4 J \\beta} + 1\\right)}\\end{matrix}\\right]$"
      ],
      "text/plain": [
       "⎡              2⋅J⋅β                                 2⋅J⋅β                    \n",
       "⎢             ℯ      + 1                        1 - ℯ                         \n",
       "⎢           ──────────────                    ──────────────                ──\n",
       "⎢             ⎛ 4⋅J⋅β    ⎞                      ⎛ 4⋅J⋅β    ⎞                  \n",
       "⎢           4⋅⎝ℯ      + 1⎠                    4⋅⎝ℯ      + 1⎠                4⋅\n",
       "⎢                                                                             \n",
       "⎢                                                                          6⋅J\n",
       "⎢                                                                         ℯ   \n",
       "⎢                  2⋅J⋅β                     4⋅J⋅β    2⋅J⋅β             - ────\n",
       "⎢             1 - ℯ                       2⋅ℯ      - ℯ      + 1             2 \n",
       "⎢           ──────────────                ─────────────────────      ─────────\n",
       "⎢             ⎛ 4⋅J⋅β    ⎞                      ⎛ 4⋅J⋅β    ⎞          6⋅J⋅β   \n",
       "⎢           4⋅⎝ℯ      + 1⎠                    4⋅⎝ℯ      + 1⎠         ℯ      + \n",
       "⎢                                                                             \n",
       "⎢                                            6⋅J⋅β    4⋅J⋅β                   \n",
       "⎢                                           ℯ        ℯ        1               \n",
       "⎢                  2⋅J⋅β                  - ────── + ────── + ─            4⋅J\n",
       "⎢             1 - ℯ                           2        4      4         2⋅ℯ   \n",
       "⎢           ──────────────             ────────────────────────────     ──────\n",
       "⎢             ⎛ 4⋅J⋅β    ⎞              6⋅J⋅β    4⋅J⋅β    2⋅J⋅β               \n",
       "⎢           4⋅⎝ℯ      + 1⎠             ℯ      + ℯ      + ℯ      + 1         4⋅\n",
       "⎢                                                                             \n",
       "⎢        4⋅J⋅β      2⋅J⋅β                            2⋅J⋅β                    \n",
       "⎢       ℯ      - 2⋅ℯ      + 1                   1 - ℯ                         \n",
       "⎢────────────────────────────────────         ──────────────                ──\n",
       "⎢  ⎛⎛ 2⋅J⋅β    ⎞  4⋅J⋅β    2⋅J⋅β    ⎞           ⎛ 4⋅J⋅β    ⎞                  \n",
       "⎣4⋅⎝⎝ℯ      + 1⎠⋅ℯ      + ℯ      + 1⎠         4⋅⎝ℯ      + 1⎠                4⋅\n",
       "\n",
       "     2⋅J⋅β                   4⋅J⋅β      2⋅J⋅β            ⎤\n",
       "1 - ℯ                       ℯ      - 2⋅ℯ      + 1        ⎥\n",
       "────────────         ────────────────────────────────────⎥\n",
       "⎛ 4⋅J⋅β    ⎞           ⎛⎛ 2⋅J⋅β    ⎞  4⋅J⋅β    2⋅J⋅β    ⎞⎥\n",
       "⎝ℯ      + 1⎠         4⋅⎝⎝ℯ      + 1⎠⋅ℯ      + ℯ      + 1⎠⎥\n",
       "                                                         ⎥\n",
       "⋅β    4⋅J⋅β                                              ⎥\n",
       "     ℯ        1                                          ⎥\n",
       "── + ────── + ─                        2⋅J⋅β             ⎥\n",
       "       4      4                   1 - ℯ                  ⎥\n",
       "───────────────────             ──────────────           ⎥\n",
       " 4⋅J⋅β    2⋅J⋅β                   ⎛ 4⋅J⋅β    ⎞           ⎥\n",
       "ℯ      + ℯ      + 1             4⋅⎝ℯ      + 1⎠           ⎥\n",
       "                                                         ⎥\n",
       "                                                         ⎥\n",
       "                                                         ⎥\n",
       "⋅β    2⋅J⋅β                            2⋅J⋅β             ⎥\n",
       "   - ℯ      + 1                   1 - ℯ                  ⎥\n",
       "───────────────                 ──────────────           ⎥\n",
       "⎛ 4⋅J⋅β    ⎞                      ⎛ 4⋅J⋅β    ⎞           ⎥\n",
       "⎝ℯ      + 1⎠                    4⋅⎝ℯ      + 1⎠           ⎥\n",
       "                                                         ⎥\n",
       "     2⋅J⋅β                         2⋅J⋅β                 ⎥\n",
       "1 - ℯ                             ℯ      + 1             ⎥\n",
       "────────────                    ──────────────           ⎥\n",
       "⎛ 4⋅J⋅β    ⎞                      ⎛ 4⋅J⋅β    ⎞           ⎥\n",
       "⎝ℯ      + 1⎠                    4⋅⎝ℯ      + 1⎠           ⎦"
      ]
     },
     "execution_count": 37,
     "metadata": {},
     "output_type": "execute_result"
    }
   ],
   "source": [
    "beta = symbols('beta', real=True)\n",
    "def Thermal_state(J,beta):\n",
    "    return (exp(-3*J*beta)*proj(tp(Mais,Mais))+\\\n",
    "           exp(-J*beta)*proj(Bell(1,0))+\\\n",
    "           exp(J*beta)*proj(tp(Menos,Menos))+\\\n",
    "           exp(3*J*beta)*proj(Bell(1,1)))/trace(exp(-3*J*beta)*proj(tp(Mais,Mais)) + exp(-J*beta)*proj(Bell(1,0))+exp(J*beta)*proj(tp(Menos,Menos))+exp(3*J*beta)*proj(Bell(1,1)))\n",
    "\n",
    "simplify((Thermal_state(J,beta)))"
   ]
  },
  {
   "cell_type": "code",
   "execution_count": 259,
   "metadata": {},
   "outputs": [
    {
     "data": {
      "image/png": "[encoded data removed]",
      "text/latex": [
       "$\\displaystyle 0.817428273263855$"
      ],
      "text/plain": [
       "0.817428273263855"
      ]
     },
     "execution_count": 259,
     "metadata": {},
     "output_type": "execute_result"
    }
   ],
   "source": [
    "concurrence(Thermal_state(1,1))"
   ]
  },
  {
   "cell_type": "code",
   "execution_count": null,
   "metadata": {},
   "outputs": [],
   "source": [
    "########################################"
   ]
  },
  {
   "cell_type": "code",
   "execution_count": 43,
   "metadata": {},
   "outputs": [],
   "source": [
    "from sympy import Symbol, Interval\n",
    "p = symbols('p', real=True, positive= True)\n",
    "def Bell_like(p,j,k):\n",
    "    if j == 0 and k == 0:\n",
    "        return Matrix([[sqrt(p)],[0],[0],[sqrt(1-p)]]) # phi+\n",
    "    elif j == 0 and k == 1:\n",
    "        return Matrix([[0],[sqrt(p)],[sqrt(1-p)],[0]]) # psi+\n",
    "    elif j == 1 and k == 0:\n",
    "        return Matrix([[sqrt(p)],[0],[0],[-sqrt(1-p)]]) # phi-\n",
    "    elif j == 1 and k == 1:\n",
    "        return Matrix([[0],[sqrt(p)],[-sqrt(1-p)],[0]]) # psi-"
   ]
  },
  {
   "cell_type": "code",
   "execution_count": 31,
   "metadata": {},
   "outputs": [],
   "source": [
    "import numpy as np\n",
    "\n",
    "def Bell_like_num(p, j, k):\n",
    "    if j == 0 and k == 0:\n",
    "        return np.array([[np.sqrt(p)], [0], [0], [np.sqrt(1-p)]])  # phi+\n",
    "    elif j == 0 and k == 1:\n",
    "        return np.array([[0], [np.sqrt(p)], [np.sqrt(1-p)], [0]])  # psi+\n",
    "    elif j == 1 and k == 0:\n",
    "        return np.array([[np.sqrt(p)], [0], [0], [-np.sqrt(1-p)]])  # phi-\n",
    "    elif j == 1 and k == 1:\n",
    "        return np.array([[0], [np.sqrt(p)], [-np.sqrt(1-p)], [0]])  # psi-\n"
   ]
  },
  {
   "attachments": {},
   "cell_type": "markdown",
   "metadata": {},
   "source": [
    "### Bell-diagonal states\n",
    "\\begin{align}\n",
    "\\rho & = \\frac{1}{4}\\left(\\sigma_{0}\\otimes\\sigma_{0} + \\sum_{j=1}^{3}c_{j}\\sigma_{j}\\otimes\\sigma_{j}\\right) \\\\\n",
    "& = \\frac{1}{4}\n",
    "\\begin{bmatrix}\n",
    "1+c_{3} & 0 & 0 & c_{1}-c_{2} \\\\\n",
    "0 & 1-c_{3} & c_{1}+c_{2} & 0 \\\\\n",
    "0 & c_{1}+c_{2} & 1-c_{3} & 0 \\\\\n",
    "c_{1}-c_{2} & 0 & 0 & 1+c_{3}\n",
    "\\end{bmatrix}\n",
    "\\end{align}"
   ]
  },
  {
   "cell_type": "code",
   "execution_count": 50,
   "metadata": {},
   "outputs": [],
   "source": [
    "c1, c2, c3 = symbols('c_{1} c_{2} c_{3}', real=True)\n",
    "def bds(c1,c2,c3):\n",
    "    return ((tp(Pauli(0),Pauli(0)) + c1*tp(Pauli(1),Pauli(1)) + c2*tp(Pauli(2),Pauli(2)) + c3*tp(Pauli(3),Pauli(3))))/4"
   ]
  },
  {
   "attachments": {},
   "cell_type": "markdown",
   "metadata": {},
   "source": [
    "### Werner state\n",
    "\\begin{equation}\n",
    "\\rho_{w} = (1-w)\\frac{\\mathbb{I}_{4}}{4} + w|\\beta_{jk}\\rangle\\langle\\beta_{jk}|\n",
    "\\end{equation}"
   ]
  },
  {
   "cell_type": "code",
   "execution_count": 51,
   "metadata": {},
   "outputs": [],
   "source": [
    "def werner(w,j,k):\n",
    "    return (1-w)*tp(Pauli(0),Pauli(0))/4 + w*proj(Bell(j,k))\n",
    "w = symbols('w', real=True, positive=True); #bds(-w,-w,-w)-werner(w)"
   ]
  },
  {
   "attachments": {},
   "cell_type": "markdown",
   "metadata": {},
   "source": [
    "### Werner-like state\n",
    "\\begin{equation}\n",
    "\\rho_{w} = (1-w)\\frac{\\mathbb{I}_{4}}{4} + w|\\beta'_{jk}\\rangle\\langle\\beta'_{jk}|\n",
    "\\end{equation}\n",
    "\n"
   ]
  },
  {
   "cell_type": "code",
   "execution_count": null,
   "metadata": {},
   "outputs": [],
   "source": []
  },
  {
   "cell_type": "code",
   "execution_count": 34,
   "metadata": {},
   "outputs": [],
   "source": [
    "\n",
    "a1,a2,a3,b1,b2,b3 = symbols('a_{1} a_{2} a_{3} b_{1} b_{2} b_{3}', real=True)\n",
    "c11,c12,c13,c21,c22,c23,c31,c32,c33 = symbols('c_{11} c_{12} c_{13} c_{21} c_{22} c_{23} c_{31} c_{32} c_{33}', real=True)\n",
    "def rho2qb(a1, a2, a3, b1, b2, b3, c11, c12, c13, c21, c22, c23, c31, c32, c33):\n",
    "    return ((tp(Pauli(0),Pauli(0)) + b1*tp(Pauli(0),Pauli(1)) + b2*tp(Pauli(0),Pauli(2)) + b3*tp(Pauli(0),Pauli(3))\n",
    "           + a1*tp(Pauli(1),Pauli(0)) + c11*tp(Pauli(1),Pauli(1)) + c12*tp(Pauli(1),Pauli(2)) + c13*tp(Pauli(1),Pauli(3))\n",
    "           + a2*tp(Pauli(2),Pauli(0)) + c21*tp(Pauli(2),Pauli(1)) + c22*tp(Pauli(2),Pauli(2)) + c23*tp(Pauli(2),Pauli(3))\n",
    "           + a3*tp(Pauli(3),Pauli(0)) + c31*tp(Pauli(3),Pauli(1)) + c32*tp(Pauli(3),Pauli(2)) + c33*tp(Pauli(3),Pauli(3))))/4\n",
    "\n",
    "#def rho2qb(CM):\n",
    " #   return ((tp(Pauli(0),Pauli(0)) + CM[0,1]*tp(Pauli(0),Pauli(1)) + CM[0,2]*tp(Pauli(0),Pauli(2)) + CM[0,3]*tp(Pauli(0),Pauli(3))\n",
    "  #         + CM[1,0]*tp(Pauli(1),Pauli(0)) + CM[1,1]*tp(Pauli(1),Pauli(1)) + CM[1,2]*tp(Pauli(1),Pauli(2)) + CM[1,3]*tp(Pauli(1),Pauli(3))\n",
    "   #        + CM[2,0]*tp(Pauli(2),Pauli(0)) + CM[2,1]*tp(Pauli(2),Pauli(1)) + CM[2,2]*tp(Pauli(2),Pauli(2)) + CM[2,3]*tp(Pauli(2),Pauli(3))\n",
    "    #       + CM[3,0]*tp(Pauli(3),Pauli(0)) + CM[3,1]*tp(Pauli(3),Pauli(1)) + CM[3,2]*tp(Pauli(3),Pauli(2)) + CM[3,3]*tp(Pauli(3),Pauli(3))))/4"
   ]
  },
  {
   "cell_type": "code",
   "execution_count": 332,
   "metadata": {},
   "outputs": [
    {
     "data": {
      "image/png": "[encoded data removed]",
      "text/latex": [
       "$\\displaystyle \\left[\\begin{matrix}\\frac{a_{3}}{4} + \\frac{b_{3}}{4} + \\frac{c_{33}}{4} + \\frac{1}{4} & \\frac{b_{1}}{4} + \\frac{c_{31}}{4} & 0 & \\frac{c_{11}}{4}\\\\\\frac{b_{1}}{4} + \\frac{c_{31}}{4} & \\frac{a_{3}}{4} - \\frac{b_{3}}{4} - \\frac{c_{33}}{4} + \\frac{1}{4} & \\frac{c_{11}}{4} & 0\\\\0 & \\frac{c_{11}}{4} & - \\frac{a_{3}}{4} + \\frac{b_{3}}{4} - \\frac{c_{33}}{4} + \\frac{1}{4} & \\frac{b_{1}}{4} - \\frac{c_{31}}{4}\\\\\\frac{c_{11}}{4} & 0 & \\frac{b_{1}}{4} - \\frac{c_{31}}{4} & - \\frac{a_{3}}{4} - \\frac{b_{3}}{4} + \\frac{c_{33}}{4} + \\frac{1}{4}\\end{matrix}\\right]$"
      ],
      "text/plain": [
       "⎡a_{3}   b_{3}   c_{33}   1        b_{1}   c_{31}                             \n",
       "⎢───── + ───── + ────── + ─        ───── + ──────                     0       \n",
       "⎢  4       4       4      4          4       4                                \n",
       "⎢                                                                             \n",
       "⎢      b_{1}   c_{31}        a_{3}   b_{3}   c_{33}   1             c_{11}    \n",
       "⎢      ───── + ──────        ───── - ───── - ────── + ─             ──────    \n",
       "⎢        4       4             4       4       4      4               4       \n",
       "⎢                                                                             \n",
       "⎢                                      c_{11}              a_{3}   b_{3}   c_{\n",
       "⎢            0                         ──────            - ───── + ───── - ───\n",
       "⎢                                        4                   4       4       4\n",
       "⎢                                                                             \n",
       "⎢          c_{11}                                               b_{1}   c_{31}\n",
       "⎢          ──────                        0                      ───── - ──────\n",
       "⎣            4                                                    4       4   \n",
       "\n",
       "                    c_{11}           ⎤\n",
       "                    ──────           ⎥\n",
       "                      4              ⎥\n",
       "                                     ⎥\n",
       "                                     ⎥\n",
       "                      0              ⎥\n",
       "                                     ⎥\n",
       "                                     ⎥\n",
       "33}   1         b_{1}   c_{31}       ⎥\n",
       "─── + ─         ───── - ──────       ⎥\n",
       "      4           4       4          ⎥\n",
       "                                     ⎥\n",
       "           a_{3}   b_{3}   c_{33}   1⎥\n",
       "         - ───── - ───── + ────── + ─⎥\n",
       "             4       4       4      4⎦"
      ]
     },
     "execution_count": 332,
     "metadata": {},
     "output_type": "execute_result"
    }
   ],
   "source": [
    "rho2qb(0, 0, a3, b1, 0, b3, c11, 0, 0, 0, 0, 0, c31, 0, c33)"
   ]
  },
  {
   "cell_type": "code",
   "execution_count": 52,
   "metadata": {},
   "outputs": [],
   "source": [
    "def Kad(j, a):\n",
    "    if j == 0:\n",
    "        return Matrix([[0,sqrt(a)],[0,0]])\n",
    "    elif j == 1:\n",
    "        return Matrix([[1,0],[0,sqrt(1-a)]])\n",
    "def ADC(rho, a):\n",
    "    return Kad(0, a)*rho*(Kad(0, a).T) + Kad(1, a)*rho*Kad(1, a)"
   ]
  },
  {
   "cell_type": "code",
   "execution_count": null,
   "metadata": {},
   "outputs": [],
   "source": []
  },
  {
   "cell_type": "code",
   "execution_count": 53,
   "metadata": {},
   "outputs": [],
   "source": [
    "def coh_l1(rho):\n",
    "    d = rho.shape[0]; C = 0\n",
    "    for j in range(0,d-1):\n",
    "        for k in range(j+1,d):\n",
    "            C += abs(rho[j,k])\n",
    "    return 2*C"
   ]
  },
  {
   "cell_type": "code",
   "execution_count": 54,
   "metadata": {},
   "outputs": [],
   "source": [
    "def concurrence(rho):\n",
    "    R = rho*tp(Pauli(2),Pauli(2))*conjugate(rho)*tp(Pauli(2),Pauli(2))\n",
    "    evals = zeros(4,1)\n",
    "    ev = eVals(R)\n",
    "    evm = max(abs(ev[0]), abs(ev[1]), abs(ev[2]), abs(ev[3]))\n",
    "    C = 2.0*sqrt(abs(evm)) - sqrt(abs(ev[0])) - sqrt(abs(ev[1])) - sqrt(abs(ev[2])) - sqrt(abs(ev[3]))\n",
    "    if C < 0.0:\n",
    "        C = 0.0\n",
    "    return C"
   ]
  },
  {
   "cell_type": "code",
   "execution_count": 55,
   "metadata": {},
   "outputs": [
    {
     "data": {
      "image/png": "[encoded data removed]",
      "text/latex": [
       "$\\displaystyle 1.0$"
      ],
      "text/plain": [
       "1.00000000000000"
      ]
     },
     "execution_count": 55,
     "metadata": {},
     "output_type": "execute_result"
    }
   ],
   "source": [
    "concurrence(proj(Bell(1,1)))"
   ]
  },
  {
   "cell_type": "code",
   "execution_count": null,
   "metadata": {},
   "outputs": [],
   "source": [
    "concurrence(werner(1))"
   ]
  },
  {
   "cell_type": "code",
   "execution_count": 56,
   "metadata": {},
   "outputs": [],
   "source": [
    "# Outside these functions, initialize: rhos = zeros(ds,ds), s=A,B\n",
    "def ptraceA(da, db, rho):\n",
    "    rhoB = zeros(db,db)\n",
    "    for j in range(0, db):\n",
    "        for k in range(0, db):\n",
    "            for l in range(0, da):\n",
    "                rhoB[j,k] += rho[l*db+j,l*db+k]\n",
    "    return rhoB\n",
    "def ptraceB(da, db, rho):\n",
    "    rhoA = zeros(da,da)\n",
    "    for j in range(0, da):\n",
    "        for k in range(0, da):\n",
    "            for l in range(0, db):\n",
    "                rhoA[j,k] += rho[j*db+l,k*db+l]\n",
    "    return rhoA"
   ]
  },
  {
   "cell_type": "code",
   "execution_count": 57,
   "metadata": {},
   "outputs": [],
   "source": [
    "def ptranspose(da,db,rho,ssys):\n",
    "    ptp = zeros(da*db,da*db)\n",
    "    if ssys == 'b':\n",
    "        for ja in range(0,da):\n",
    "            for ka in range(0,da):\n",
    "                for jb in range(0,db):\n",
    "                    for kb in range(0,db):\n",
    "                        ptp[ja*db+kb,ka*db+jb] = rho[ja*db+jb,ka*db+kb]\n",
    "    elif ssys == 'a':\n",
    "        for ja in range(0,da):\n",
    "            for ka in range(0,da):\n",
    "                for jb in range(0,db):\n",
    "                    for kb in range(0,db):\n",
    "                        ptp[ka*db+jb,ja*db+kb] = rho[ja*db+jb,ka*db+kb]\n",
    "    return ptp"
   ]
  },
  {
   "cell_type": "code",
   "execution_count": 58,
   "metadata": {},
   "outputs": [],
   "source": [
    "# outside this function, initialize: rhoTb = zeros(4,4); evals = zeros(4,1)\n",
    "def negativity(da, db, rho):\n",
    "    d = da*db\n",
    "    rhoTb = ptranspose(da, db, rho,'b')\n",
    "    En = (norm_tr(rhoTb) - 1)/2\n",
    "    return En"
   ]
  },
  {
   "attachments": {},
   "cell_type": "markdown",
   "metadata": {},
   "source": [
    "#### Estado $|\\Phi_{+}^{3}\\rangle$"
   ]
  },
  {
   "cell_type": "code",
   "execution_count": 32,
   "metadata": {},
   "outputs": [
    {
     "data": {
      "image/png": "[encoded data removed]",
      "text/latex": [
       "$\\displaystyle \\left[\\begin{matrix}\\frac{\\sqrt{3}}{3}\\\\0\\\\0\\\\0\\\\\\frac{\\sqrt{3}}{3}\\\\0\\\\0\\\\0\\\\\\frac{\\sqrt{3}}{3}\\end{matrix}\\right]$"
      ],
      "text/plain": [
       "⎡√3⎤\n",
       "⎢──⎥\n",
       "⎢3 ⎥\n",
       "⎢  ⎥\n",
       "⎢0 ⎥\n",
       "⎢  ⎥\n",
       "⎢0 ⎥\n",
       "⎢  ⎥\n",
       "⎢0 ⎥\n",
       "⎢  ⎥\n",
       "⎢√3⎥\n",
       "⎢──⎥\n",
       "⎢3 ⎥\n",
       "⎢  ⎥\n",
       "⎢0 ⎥\n",
       "⎢  ⎥\n",
       "⎢0 ⎥\n",
       "⎢  ⎥\n",
       "⎢0 ⎥\n",
       "⎢  ⎥\n",
       "⎢√3⎥\n",
       "⎢──⎥\n",
       "⎣3 ⎦"
      ]
     },
     "execution_count": 32,
     "metadata": {},
     "output_type": "execute_result"
    }
   ],
   "source": [
    "Phi_qutrit = (tp(cb(3,0),cb(3,0)) + tp(cb(3,1),cb(3,1)) + tp(cb(3,2),cb(3,2)))/sqrt(3) ;Phi_qutrit"
   ]
  },
  {
   "attachments": {},
   "cell_type": "markdown",
   "metadata": {},
   "source": [
    "### Canal Phase FLIP NÃO MARKOVIANO"
   ]
  },
  {
   "cell_type": "code",
   "execution_count": null,
   "metadata": {},
   "outputs": [],
   "source": []
  },
  {
   "cell_type": "code",
   "execution_count": 1,
   "metadata": {},
   "outputs": [],
   "source": [
    "from sympy import *\n",
    "import numpy as np\n",
    "\n",
    "init_printing(use_unicode=True)\n",
    "from matplotlib import pyplot as plt\n",
    "%matplotlib inline\n",
    "from sympy.physics.quantum.dagger import Dagger\n",
    "from sympy.physics.quantum import TensorProduct\n",
    "import scipy.interpolate\n",
    "import platform"
   ]
  },
  {
   "cell_type": "code",
   "execution_count": 5,
   "metadata": {},
   "outputs": [],
   "source": [
    "def cb(d, j):\n",
    "    cbs = zeros(d,1); cbs[j] = 1\n",
    "    return cbs\n",
    "def proj(psi):\n",
    "    return psi*Dagger(psi)\n",
    "\n",
    "def coh_l1(rho):\n",
    "    d = rho.shape[0]; C = 0\n",
    "    for j in range(0,d-1):\n",
    "        for k in range(j+1,d):\n",
    "            C += abs(rho[j,k])\n",
    "    return 2*C\n",
    "\n",
    "def Pauli(j):\n",
    "    if j == 0:\n",
    "        return Matrix([[1,0],[0,1]])\n",
    "    elif j == 1:\n",
    "        return Matrix([[0,1],[1,0]])\n",
    "    elif j == 2:\n",
    "        return Matrix([[0,-1j],[1j,0]])\n",
    "    elif j == 3:\n",
    "        return Matrix([[1,0],[0,-1]])"
   ]
  },
  {
   "cell_type": "code",
   "execution_count": 6,
   "metadata": {},
   "outputs": [],
   "source": [
    "Mais=(cb(2,0)+cb(2,1))/sqrt(2)\n",
    "Menos=(cb(2,0)-cb(2,1))/sqrt(2)"
   ]
  },
  {
   "cell_type": "code",
   "execution_count": 7,
   "metadata": {},
   "outputs": [
    {
     "data": {
      "image/png": "[encoded data removed]",
      "text/latex": [
       "$\\displaystyle \\left[\\begin{matrix}0.906129045593496 & 0\\\\0 & 0.906129045593496\\end{matrix}\\right]$"
      ],
      "text/plain": [
       "⎡0.906129045593496          0        ⎤\n",
       "⎢                                    ⎥\n",
       "⎣        0          0.906129045593496⎦"
      ]
     },
     "execution_count": 7,
     "metadata": {},
     "output_type": "execute_result"
    }
   ],
   "source": [
    "def K_0(alpha,J):\n",
    "    return sqrt(exp(-alpha*J)*(cos(J/2)+alpha*sin(J/2)))*Pauli(0)\n",
    "\n",
    "K_0(0.01,1.2)"
   ]
  },
  {
   "cell_type": "code",
   "execution_count": 8,
   "metadata": {},
   "outputs": [
    {
     "data": {
      "image/png": "[encoded data removed]",
      "text/latex": [
       "$\\displaystyle \\left[\\begin{matrix}0.423001362564968 & 0\\\\0 & -0.423001362564968\\end{matrix}\\right]$"
      ],
      "text/plain": [
       "⎡0.423001362564968          0         ⎤\n",
       "⎢                                     ⎥\n",
       "⎣        0          -0.423001362564968⎦"
      ]
     },
     "execution_count": 8,
     "metadata": {},
     "output_type": "execute_result"
    }
   ],
   "source": [
    "def K_1(alpha,J):\n",
    "    return sqrt(1-exp(-alpha*J)*(cos(J/2)+alpha*sin(J/2)))*Pauli(3)\n",
    "\n",
    "K_1(0.01,1.2)"
   ]
  },
  {
   "cell_type": "code",
   "execution_count": 9,
   "metadata": {},
   "outputs": [
    {
     "data": {
      "image/png": "[encoded data removed]",
      "text/latex": [
       "$\\displaystyle \\left[\\begin{matrix}0.5 & 0.321069847268181\\\\0.321069847268181 & 0.5\\end{matrix}\\right]$"
      ],
      "text/plain": [
       "⎡       0.5         0.321069847268181⎤\n",
       "⎢                                    ⎥\n",
       "⎣0.321069847268181         0.5       ⎦"
      ]
     },
     "execution_count": 9,
     "metadata": {},
     "output_type": "execute_result"
    }
   ],
   "source": [
    "#ação do canal no estado |+><+| J É O TEMPO\n",
    "def RHO_t_NM(J):\n",
    "    return K_0(0.01,J)*proj(Mais)*K_0(0.01,J).T + K_1(0.01,J)*proj(Mais)*K_1(0.01,J).T\n",
    "\n",
    "RHO_t_NM(1.2)"
   ]
  },
  {
   "cell_type": "code",
   "execution_count": 10,
   "metadata": {},
   "outputs": [
    {
     "data": {
      "image/png": "[encoded data removed]",
      "text/latex": [
       "$\\displaystyle \\left[\\begin{matrix}\\frac{1}{2} & \\frac{1}{2}\\\\\\frac{1}{2} & \\frac{1}{2}\\end{matrix}\\right]$"
      ],
      "text/plain": [
       "⎡1/2  1/2⎤\n",
       "⎢        ⎥\n",
       "⎣1/2  1/2⎦"
      ]
     },
     "execution_count": 10,
     "metadata": {},
     "output_type": "execute_result"
    }
   ],
   "source": [
    "RHO_t_NM(0)"
   ]
  },
  {
   "cell_type": "code",
   "execution_count": 11,
   "metadata": {},
   "outputs": [
    {
     "data": {
      "image/png": "[encoded data removed]",
      "text/latex": [
       "$\\displaystyle 1$"
      ],
      "text/plain": [
       "1"
      ]
     },
     "execution_count": 11,
     "metadata": {},
     "output_type": "execute_result"
    }
   ],
   "source": [
    "coh_l1(RHO_t_NM(0))"
   ]
  },
  {
   "cell_type": "code",
   "execution_count": 12,
   "metadata": {},
   "outputs": [
    {
     "data": {
      "image/png": "[encoded data removed]",
      "text/latex": [
       "$\\displaystyle \\left[\\begin{matrix}0.5 & 0.466541651115494\\\\0.466541651115494 & 0.5\\end{matrix}\\right]$"
      ],
      "text/plain": [
       "⎡       0.5         0.466541651115494⎤\n",
       "⎢                                    ⎥\n",
       "⎣0.466541651115494         0.5       ⎦"
      ]
     },
     "execution_count": 12,
     "metadata": {},
     "output_type": "execute_result"
    }
   ],
   "source": [
    "RHO_t_NM(0.5)"
   ]
  },
  {
   "cell_type": "code",
   "execution_count": 13,
   "metadata": {},
   "outputs": [
    {
     "data": {
      "image/png": "[encoded data removed]",
      "text/latex": [
       "$\\displaystyle 0.933083302230987$"
      ],
      "text/plain": [
       "0.933083302230987"
      ]
     },
     "execution_count": 13,
     "metadata": {},
     "output_type": "execute_result"
    }
   ],
   "source": [
    "coh_l1(RHO_t_NM(0.5))"
   ]
  },
  {
   "cell_type": "code",
   "execution_count": 14,
   "metadata": {},
   "outputs": [
    {
     "data": {
      "image/png": "[encoded data removed]",
      "text/plain": [
       "<Figure size 640x480 with 1 Axes>"
      ]
     },
     "metadata": {},
     "output_type": "display_data"
    }
   ],
   "source": [
    "t = np.linspace(0,100,100)\n",
    "y = [coh_l1(RHO_t_NM(i)) for i in t]\n",
    "plt.plot(t,y)\n",
    "plt.show()"
   ]
  },
  {
   "cell_type": "code",
   "execution_count": null,
   "metadata": {},
   "outputs": [],
   "source": []
  }
 ],
 "metadata": {
  "kernelspec": {
   "display_name": "Python 3 (ipykernel)",
   "language": "python",
   "name": "python3"
  },
  "language_info": {
   "codemirror_mode": {
    "name": "ipython",
    "version": 3
   },
   "file_extension": ".py",
   "mimetype": "text/x-python",
   "name": "python",
   "nbconvert_exporter": "python",
   "pygments_lexer": "ipython3",
   "version": "3.10.6"
  }
 },
 "nbformat": 4,
 "nbformat_minor": 2
}
