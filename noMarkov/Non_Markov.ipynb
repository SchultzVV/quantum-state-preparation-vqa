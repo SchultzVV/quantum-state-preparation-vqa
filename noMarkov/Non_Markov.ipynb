{
 "cells": [
  {
   "attachments": {},
   "cell_type": "markdown",
   "metadata": {},
   "source": [
    "### Canal Phase FLIP NÃO MARKOVIANO"
   ]
  },
  {
   "cell_type": "code",
   "execution_count": 1,
   "metadata": {},
   "outputs": [],
   "source": [
    "from sympy import *\n",
    "import numpy as np\n",
    "\n",
    "init_printing(use_unicode=True)\n",
    "from matplotlib import pyplot as plt\n",
    "%matplotlib inline\n",
    "from sympy.physics.quantum.dagger import Dagger\n",
    "from sympy.physics.quantum import TensorProduct\n",
    "import scipy.interpolate\n",
    "import platform"
   ]
  },
  {
   "cell_type": "code",
   "execution_count": 2,
   "metadata": {},
   "outputs": [],
   "source": [
    "def cb(d, j):\n",
    "    cbs = zeros(d,1); cbs[j] = 1\n",
    "    return cbs\n",
    "def proj(psi):\n",
    "    return psi*Dagger(psi)\n",
    "\n",
    "def coh_l1(rho):\n",
    "    d = rho.shape[0]; C = 0\n",
    "    for j in range(0,d-1):\n",
    "        for k in range(j+1,d):\n",
    "            C += abs(rho[j,k])\n",
    "    return 2*C\n",
    "\n",
    "def Pauli(j):\n",
    "    if j == 0:\n",
    "        return Matrix([[1,0],[0,1]])\n",
    "    elif j == 1:\n",
    "        return Matrix([[0,1],[1,0]])\n",
    "    elif j == 2:\n",
    "        return Matrix([[0,-1j],[1j,0]])\n",
    "    elif j == 3:\n",
    "        return Matrix([[1,0],[0,-1]])"
   ]
  },
  {
   "cell_type": "code",
   "execution_count": 69,
   "metadata": {},
   "outputs": [],
   "source": [
    "#from noMarkov.tools import EoF\n",
    "'''   ENTROPY.PY                 '''\n",
    "import math\n",
    "import scipy.linalg.lapack as lapak\n",
    "import sys\n",
    "sys.path.append('..')\n",
    "import src.pTrace\n",
    "\n",
    "def purity(rho):\n",
    "    d = rho.shape[0]\n",
    "    purity = 0.0\n",
    "    j = -1\n",
    "    while (j < d-1):\n",
    "        j = j + 1\n",
    "        k = -1\n",
    "        while (k < d-1):\n",
    "            k = k + 1\n",
    "            purity += (rho[j][k].real)**2 + (rho[j][k].imag)**2\n",
    "    return purity\n",
    "\n",
    "def linear_entropy(rho):\n",
    "    return 1-purity(rho)\n",
    "\n",
    "def shannon(pv):\n",
    "    d = pv.shape[0]\n",
    "    SE = 0.0\n",
    "    j = -1\n",
    "    while (j < d-1):\n",
    "        j = j + 1\n",
    "        if pv[j] > 1.e-15 and pv[j] < (1.0-1.e-15):\n",
    "            SE -= pv[j]*math.log(pv[j], 2)\n",
    "    return SE\n",
    "\n",
    "def von_neumann(rho):\n",
    "    d = rho.shape[0]\n",
    "    b = lapak.zheevd(rho)\n",
    "    VnE = shannon(b[0])\n",
    "    return VnE\n",
    "\n",
    "def mutual_info(rho, dl, dr):\n",
    "    rhor = pTrace.pTraceL(dl, dr, rho)\n",
    "    rhol = pTrace.pTraceR(dl, dr, rho)\n",
    "    return von_neumann(rhol) + von_neumann(rhor) - von_neumann(rho)\n",
    "\n",
    "'''  ENTANGLEMENT.PY   '''\n",
    "import numpy as np\n",
    "from numpy import linalg as LA\n",
    "from math import sqrt\n",
    "\n",
    "\n",
    "# def concurrence(rho):\n",
    "    # print(type(rho))\n",
    "    # ev = np.zeros(4, dtype='float')\n",
    "    # R = np.zeros((4, 4), dtype=complex)\n",
    "    # R = np.dot(rho, np.kron(Pauli(2), Pauli(2)))\n",
    "    # R = np.dot(R, np.conj(rho))\n",
    "    # R = np.dot(R, np.kron(Pauli(2), Pauli(2)))\n",
    "    # print(R)\n",
    "    # print(type(R))\n",
    "    # ev = LA.eigvals(R)\n",
    "    # ev = LA.eigvalsh(R)\n",
    "    # print(ev)\n",
    "    # evm = max(abs(ev[0]), abs(ev[1]), abs(ev[2]), abs(ev[3]))\n",
    "    # C = 2.0*sqrt(abs(evm)) - sqrt(abs(ev[0]))\n",
    "    # C = C - sqrt(abs(ev[1])) - sqrt(abs(ev[2])) - sqrt(abs(ev[3]))\n",
    "    # if C < 0.0:\n",
    "        # C = 0.0\n",
    "    # return C\n",
    "\n",
    "\n",
    "def EoF(rho):\n",
    "    pv = np.zeros(2)\n",
    "    Ec = concurrence(rho)\n",
    "    pv[0] = (1.0 + np.sqrt(1.0 - Ec**2.0))/2.0\n",
    "    pv[1] = 1.0 - pv[0]\n",
    "    EF = shannon(2, pv)\n",
    "    return EF\n",
    "\n",
    "\n",
    "def negativity(d, rhoTp):\n",
    "    from distances import normTr\n",
    "    En = 0.5*(normTr(d, rhoTp) - 1.0)\n",
    "    return En\n",
    "\n",
    "\n",
    "def log_negativity(d, rhoTp):\n",
    "    En = negativity(d, rhoTp)\n",
    "    Eln = np.log(2.0*En+1.0, 2)\n",
    "    return Eln\n",
    "\n",
    "\n",
    "def chsh(rho):  # arXiv:1510.08030\n",
    "    import gell_mann as gm\n",
    "#    cm = np.zeros(3, 3)\n",
    "    cm = gm.corr_mat(2, 2, rho)\n",
    "    W = np.zeros(3)\n",
    "    # W = LA.eigvalsh(cm)\n",
    "    u, W, vh = LA.svd(cm, full_matrices=True)\n",
    "    no = np.sqrt(2)-1\n",
    "    nl = (sqrt(W[0]**2+W[1]**2+W[2]**2-min(W[0], W[1], W[2])**2)-1)/no\n",
    "    return max(0, nl)\n",
    "\n",
    "\n",
    "def steering(rho):  # arXiv:1510.08030\n",
    "    import gell_mann as gm\n",
    "#    cm = np.zeros(3,3)\n",
    "    cm = gm.corr_mat(2, 2, rho)\n",
    "    W = np.zeros(3)\n",
    "    # W = LA.eigvalsh(cm)\n",
    "    u, W, vh = LA.svd(cm, full_matrices=True)\n",
    "    return max(0, (sqrt((W[0]**2)+(W[1]**2)+(W[2]**2))-1)/(sqrt(3)-1))\n"
   ]
  },
  {
   "cell_type": "code",
   "execution_count": 65,
   "metadata": {},
   "outputs": [],
   "source": [
    "def TP(a,b):\n",
    "    return TensorProduct(a,b)\n",
    "\n",
    "def eVals(A):\n",
    "    d = A.shape[0]; evals = zeros(d,1)\n",
    "    eig = A.eigenvects()\n",
    "    ne = 0\n",
    "    j = 0\n",
    "    lk = 0\n",
    "    while ne < d:\n",
    "        mult = eig[j][1]\n",
    "        ne += mult\n",
    "        nk = lk + mult\n",
    "        for k in range(lk,nk):\n",
    "            evals[k] = eig[j][0]\n",
    "        lk = nk\n",
    "        j += 1\n",
    "    return evals\n",
    "\n",
    "def norm_tr(A):\n",
    "    d = A.shape[0]; eva = eVals(A)\n",
    "    TrNorm = 0\n",
    "    for j in range(0,d):\n",
    "        TrNorm += abs(eva[j])\n",
    "    return TrNorm\n",
    "\n",
    "def mat_sqrt(A):\n",
    "    d = A.shape[0]; eig = A.eigenvects(); Asqrt = zeros(d,d); ne = 0; j = 0; lk = 0\n",
    "    while ne < d:\n",
    "        mult = eig[j][1]; ne += mult\n",
    "        for k in range(0,mult):\n",
    "            Proj = proj(eig[j][2][k]); Asqrt += sqrt(eig[j][0])*(Proj/trace(Proj))\n",
    "        j += 1\n",
    "    return Asqrt\n",
    "\n",
    "def concurrence(rho):\n",
    "    R = rho*TP(Pauli(2),Pauli(2))*conjugate(rho)*TP(Pauli(2),Pauli(2))\n",
    "    evals = zeros(4,1)\n",
    "    ev = eVals(R)\n",
    "    evm = max(abs(ev[0]), abs(ev[1]), abs(ev[2]), abs(ev[3]))\n",
    "    C = 2.0*sqrt(abs(evm)) - sqrt(abs(ev[0])) - sqrt(abs(ev[1])) - sqrt(abs(ev[2])) - sqrt(abs(ev[3]))\n",
    "    if C < 0.0:\n",
    "        C = 0.0\n",
    "    return C"
   ]
  },
  {
   "cell_type": "code",
   "execution_count": 5,
   "metadata": {},
   "outputs": [
    {
     "name": "stdout",
     "output_type": "stream",
     "text": [
      "[[ 0.2+0.j  0. +0.j  0. +0.j  0. +0.j]\n",
      " [ 0. +0.j  1.8+0.j -1.6+0.j  0. +0.j]\n",
      " [ 0. +0.j -1.6+0.j  1.8+0.j  0. +0.j]\n",
      " [ 0. +0.j  0. +0.j  0. +0.j  0.2+0.j]]\n"
     ]
    }
   ],
   "source": [
    "import sys as s\n",
    "\n",
    "def werner_state(c1, c2, c3):\n",
    "    # c = [-0.8,-0.8,-0.8]\n",
    "    c = [c1, c2, c3]\n",
    "    index = 0\n",
    "    rho = np.zeros((4,4),dtype=complex)\n",
    "    for i in range(len(rho)):\n",
    "        rho[i,i] = 1\n",
    "    for i in c:\n",
    "        index += 1\n",
    "        rho += TensorProduct(i*Pauli(index),Pauli(index))\n",
    "    print(np.array(rho,dtype=complex))\n",
    "werner = werner_state(-0.8, -0.8, -0.8)"
   ]
  },
  {
   "cell_type": "code",
   "execution_count": 10,
   "metadata": {},
   "outputs": [
    {
     "name": "stdout",
     "output_type": "stream",
     "text": [
      "<class 'sympy.matrices.dense.MutableDenseMatrix'>\n"
     ]
    }
   ],
   "source": [
    "def werner_state(c1, c2, c3):\n",
    "    state = Matrix([[1+c3, 0, 0, c1-c2],\n",
    "                    [0, 1-c3, c1+c2, 0],\n",
    "                    [0,c1+c2, 1-c3, 0],\n",
    "                    [c1-c2, 0, 0, 1+c3]],dtype=complex)\n",
    "    return state\n",
    "\n",
    "ana_costa = werner_state(-0.8,-0.8,-0.8)\n",
    "\n",
    "Mais=(cb(2,0)+cb(2,1))/sqrt(2)\n",
    "Menos=(cb(2,0)-cb(2,1))/sqrt(2)\n",
    "print(type(Mais))"
   ]
  },
  {
   "cell_type": "code",
   "execution_count": 11,
   "metadata": {},
   "outputs": [
    {
     "name": "stdout",
     "output_type": "stream",
     "text": [
      "<class 'sympy.matrices.dense.MutableDenseMatrix'>\n"
     ]
    }
   ],
   "source": [
    "print(type(ana_costa))"
   ]
  },
  {
   "cell_type": "code",
   "execution_count": 39,
   "metadata": {},
   "outputs": [
    {
     "data": {
      "image/png": "[encoded data removed]",
      "text/latex": [
       "$\\displaystyle \\left[\\begin{matrix}0.632455532033676 & 0\\\\0 & 0.632455532033676\\end{matrix}\\right]$"
      ],
      "text/plain": [
       "⎡0.632455532033676          0        ⎤\n",
       "⎢                                    ⎥\n",
       "⎣        0          0.632455532033676⎦"
      ]
     },
     "execution_count": 39,
     "metadata": {},
     "output_type": "execute_result"
    }
   ],
   "source": [
    "def K_0(J):\n",
    "    #return sqrt(exp(-alpha*J)*(cos(J/2)+alpha*sin(J/2)))*Pauli(0)\n",
    "    return sqrt(1-J/2)*Pauli(0)\n",
    "\n",
    "K_0(1.2)"
   ]
  },
  {
   "cell_type": "code",
   "execution_count": 40,
   "metadata": {},
   "outputs": [
    {
     "data": {
      "image/png": "[encoded data removed]",
      "text/latex": [
       "$\\displaystyle \\left[\\begin{matrix}0.774596669241483 & 0\\\\0 & -0.774596669241483\\end{matrix}\\right]$"
      ],
      "text/plain": [
       "⎡0.774596669241483          0         ⎤\n",
       "⎢                                     ⎥\n",
       "⎣        0          -0.774596669241483⎦"
      ]
     },
     "execution_count": 40,
     "metadata": {},
     "output_type": "execute_result"
    }
   ],
   "source": [
    "def K_1(J):\n",
    "    return sqrt(J/2)*Pauli(3)\n",
    "    return sqrt(1-exp(-alpha*J)*(cos(J/2)+alpha*sin(J/2)))*Pauli(3)\n",
    "\n",
    "K_1(1.2)"
   ]
  },
  {
   "cell_type": "code",
   "execution_count": 41,
   "metadata": {},
   "outputs": [
    {
     "data": {
      "image/png": "[encoded data removed]",
      "text/latex": [
       "$\\displaystyle \\left[\\begin{matrix}-0.4602 & 0 & 0 & 0\\\\0 & -66.729 & -66.2688 & 0\\\\0 & -66.2688 & -66.729 & 0\\\\0 & 0 & 0 & -0.4602\\end{matrix}\\right]$"
      ],
      "text/plain": [
       "⎡-0.4602     0         0         0   ⎤\n",
       "⎢                                    ⎥\n",
       "⎢   0     -66.729   -66.2688     0   ⎥\n",
       "⎢                                    ⎥\n",
       "⎢   0     -66.2688  -66.729      0   ⎥\n",
       "⎢                                    ⎥\n",
       "⎣   0        0         0      -0.4602⎦"
      ]
     },
     "execution_count": 41,
     "metadata": {},
     "output_type": "execute_result"
    }
   ],
   "source": [
    "#ação do canal no estado |+><+| J É O TEMPO\n",
    "def TP(a,b):\n",
    "    return TensorProduct(a,b)\n",
    "def RHO_t_NM(state,J):\n",
    "    tp1 = TP(K_0(J),K_1(J))\n",
    "    tp2 = TP(K_1(J),K_0(J))\n",
    "    return tp1*proj(state)*tp1.T + tp2*proj(state)*tp2.T\n",
    "    # return K_0(0.01,J)*proj(state)*K_0(0.01,J).T + K_1(0.01,J)*proj(state)*K_1(0.01,J).T\n",
    "    return K_0(0.01,J)*proj(state)*K_0(0.01,J).T + K_1(0.01,J)*proj(state)*K_1(0.01,J).T\n",
    "\n",
    "RHO_t_NM(werner_state(-0.8,-0.8,-0.8),5.9)\n",
    "#RHO_t_NM(werner_state(-0.8,-0.8,-0.8),1.3)\n"
   ]
  },
  {
   "cell_type": "code",
   "execution_count": 82,
   "metadata": {},
   "outputs": [
    {
     "data": {
      "image/png": "[encoded data removed]",
      "text/latex": [
       "$\\displaystyle \\left[ \\text{NaN}, \\  \\text{NaN}, \\  \\text{NaN}, \\  \\text{NaN}, \\  \\text{NaN}, \\  \\text{NaN}, \\  \\text{NaN}, \\  \\text{NaN}, \\  \\text{NaN}, \\  \\text{NaN}\\right]$"
      ],
      "text/plain": [
       "[nan, nan, nan, nan, nan, nan, nan, nan, nan, nan]"
      ]
     },
     "execution_count": 82,
     "metadata": {},
     "output_type": "execute_result"
    }
   ],
   "source": [
    "def get_list_p_noMarkov(list_p, type):\n",
    "    lamb = 0.02\n",
    "    gamma_0 = 0.01\n",
    "    list_p_noMarkov = []\n",
    "    if type == 'Bellomo':\n",
    "        def non_markov_list_p(lamb,gamma_0,t):\n",
    "            d = sqrt(2*gamma_0*lamb-lamb**2)\n",
    "            result = exp(-lamb*t)*(cos(d*t/2)+(lamb/d)*sin(d*t/2))**2\n",
    "            return result\n",
    "    if type == 'Ana':\n",
    "        def non_markov_list_p(lamb,gamma_0,t):\n",
    "            result = 1-exp(-lamb*t)*(cos(t/2)+(lamb)*sin(t/2))\n",
    "            return result\n",
    "    for p in list_p:\n",
    "        list_p_noMarkov.append(non_markov_list_p(lamb,gamma_0,p))\n",
    "    return list_p_noMarkov\n",
    "\n",
    "list_p = np.linspace(0.1,0.9,10)\n",
    "t = get_list_p_noMarkov(list_p, 'Ana')\n",
    "t = get_list_p_noMarkov(list_p, 'Bellomo')\n",
    "t"
   ]
  },
  {
   "cell_type": "code",
   "execution_count": 83,
   "metadata": {},
   "outputs": [
    {
     "name": "stdout",
     "output_type": "stream",
     "text": [
      "[0.000112497890129681, 0.135312721770712, 0.477058761915033, 0.933424676588522, 1.38803572889098, 1.72955506042002, 1.87876827061197, 1.80672370347803, 1.53983715618674, 1.15122619793036, 0.740942934467434, 0.410388912939713, 0.237412371212275, 0.258163447315441, 0.459886305635654, 0.785981486192948, 1.15161206782109, 1.46561174076246, 1.65307650453602, 1.67307663352922, 1.52734165308648, 1.25814741997318, 0.936350636805000, 0.642893155801213, 0.448567163422227, 0.397068821212839, 0.495363007905265, 0.713430883871044, 0.993090628448192, 1.26337050226017, 1.45840749561047, 1.53338534540436, 1.47468380351180, 1.30198119555415, 1.06211362788481, 0.816522090684837, 0.625617538312977, 0.534017450291246, 0.560237274319599, 0.693186561560117, 0.896059015896908, 1.11637040665578, 1.29944104465974, 1.40188243830185, 1.40178294325628, 1.30322702759414, 1.13426502694665, 0.939090245180794, 0.766569828231486, 0.658084390557894, 0.637683767975591, 0.706879607599361, 0.845167320806953, 1.01592263718670, 1.17601495204436, 1.28663446842203, 1.32263178956086, 1.27814011370830, 1.16724945377371, 1.01976357260227, 0.873274132201197, 0.763640173880900, 0.716269155052345, 0.740304462002393, 0.827028717215290, 0.952707240950062, 1.08499904538055, 1.19122303639937, 1.24638026278108, 1.23897595092109, 1.17330170259687, 1.06775874273077, 0.949789873519768, 0.848796380681151, 0.788855450174288, 0.783030653709457, 0.830606690182495, 0.917810248062358, 1.02170230295285, 1.11616243704956, 1.17841583843746, 1.19448199570843, 1.16225253375594, 1.09153781433858, 1.00119090269592, 0.914129417998463, 0.851558438791600, 0.827841824126540, 0.847253103282405, 0.903327735309215, 0.980872472035281, 1.06003420540126, 1.12134964827551, 1.15049954520310, 1.14161405200134, 1.09837663872982, 1.03274316216017, 0.961684436921186, 0.902828825404148, 0.870116220723114]\n"
     ]
    },
    {
     "data": {
      "image/png": "[encoded data removed]",
      "text/plain": [
       "<Figure size 640x480 with 1 Axes>"
      ]
     },
     "metadata": {},
     "output_type": "display_data"
    }
   ],
   "source": [
    "from sympy import MutableDenseMatrix\n",
    "\n",
    "\n",
    "def changer(matrix):\n",
    "    rows, cols = matrix.shape\n",
    "\n",
    "    return MutableDenseMatrix(rows, cols, lambda i, j: float(matrix[i, j]))\n",
    "\n",
    "t1 = np.linspace(0.01,100,100)\n",
    "t = get_list_p_noMarkov(t1, 'Ana')\n",
    "# t = get_list_p_noMarkov(t1, 'Bellomo')\n",
    "print(t)\n",
    "\n",
    "state = werner_state(-0.8,-0.8,-0.8)\n",
    "#t = np.linspace(0.1,0.9,10)\n",
    "# y = [coh_l1(RHO_t_NM(state, i)) for i in t]\n",
    "y = [concurrence(RHO_t_NM(state, i)) for i in t]\n",
    "plt.plot(t1,y)\n",
    "plt.show()"
   ]
  },
  {
   "cell_type": "code",
   "execution_count": null,
   "metadata": {},
   "outputs": [],
   "source": []
  },
  {
   "cell_type": "code",
   "execution_count": null,
   "metadata": {},
   "outputs": [],
   "source": []
  },
  {
   "cell_type": "code",
   "execution_count": null,
   "metadata": {},
   "outputs": [],
   "source": []
  }
 ],
 "metadata": {
  "kernelspec": {
   "display_name": "Python 3 (ipykernel)",
   "language": "python",
   "name": "python3"
  },
  "language_info": {
   "codemirror_mode": {
    "name": "ipython",
    "version": 3
   },
   "file_extension": ".py",
   "mimetype": "text/x-python",
   "name": "python",
   "nbconvert_exporter": "python",
   "pygments_lexer": "ipython3",
   "version": "3.9.13"
  }
 },
 "nbformat": 4,
 "nbformat_minor": 2
}
