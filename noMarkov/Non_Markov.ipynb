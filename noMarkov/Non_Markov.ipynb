{
 "cells": [
  {
   "attachments": {},
   "cell_type": "markdown",
   "metadata": {},
   "source": [
    "### Canal Phase FLIP NÃO MARKOVIANO"
   ]
  },
  {
   "cell_type": "code",
   "execution_count": 1,
   "metadata": {},
   "outputs": [],
   "source": [
    "from sympy import *\n",
    "import numpy as np\n",
    "\n",
    "init_printing(use_unicode=True)\n",
    "from matplotlib import pyplot as plt\n",
    "%matplotlib inline\n",
    "from sympy.physics.quantum.dagger import Dagger\n",
    "from sympy.physics.quantum import TensorProduct\n",
    "import scipy.interpolate\n",
    "import platform"
   ]
  },
  {
   "cell_type": "code",
   "execution_count": 2,
   "metadata": {},
   "outputs": [],
   "source": [
    "def cb(d, j):\n",
    "    cbs = zeros(d,1); cbs[j] = 1\n",
    "    return cbs\n",
    "def proj(psi):\n",
    "    return psi*Dagger(psi)\n",
    "\n",
    "def coh_l1(rho):\n",
    "    d = rho.shape[0]; C = 0\n",
    "    for j in range(0,d-1):\n",
    "        for k in range(j+1,d):\n",
    "            C += abs(rho[j,k])\n",
    "    return 2*C\n",
    "\n",
    "def Pauli(j):\n",
    "    if j == 0:\n",
    "        return Matrix([[1,0],[0,1]])\n",
    "    elif j == 1:\n",
    "        return Matrix([[0,1],[1,0]])\n",
    "    elif j == 2:\n",
    "        return Matrix([[0,-1j],[1j,0]])\n",
    "    elif j == 3:\n",
    "        return Matrix([[1,0],[0,-1]])"
   ]
  },
  {
   "cell_type": "code",
   "execution_count": 69,
   "metadata": {},
   "outputs": [],
   "source": [
    "#from noMarkov.tools import EoF\n",
    "'''   ENTROPY.PY                 '''\n",
    "import math\n",
    "import scipy.linalg.lapack as lapak\n",
    "import sys\n",
    "sys.path.append('..')\n",
    "import src.pTrace\n",
    "\n",
    "def purity(rho):\n",
    "    d = rho.shape[0]\n",
    "    purity = 0.0\n",
    "    j = -1\n",
    "    while (j < d-1):\n",
    "        j = j + 1\n",
    "        k = -1\n",
    "        while (k < d-1):\n",
    "            k = k + 1\n",
    "            purity += (rho[j][k].real)**2 + (rho[j][k].imag)**2\n",
    "    return purity\n",
    "\n",
    "def linear_entropy(rho):\n",
    "    return 1-purity(rho)\n",
    "\n",
    "def shannon(pv):\n",
    "    d = pv.shape[0]\n",
    "    SE = 0.0\n",
    "    j = -1\n",
    "    while (j < d-1):\n",
    "        j = j + 1\n",
    "        if pv[j] > 1.e-15 and pv[j] < (1.0-1.e-15):\n",
    "            SE -= pv[j]*math.log(pv[j], 2)\n",
    "    return SE\n",
    "\n",
    "def von_neumann(rho):\n",
    "    d = rho.shape[0]\n",
    "    b = lapak.zheevd(rho)\n",
    "    VnE = shannon(b[0])\n",
    "    return VnE\n",
    "\n",
    "def mutual_info(rho, dl, dr):\n",
    "    rhor = pTrace.pTraceL(dl, dr, rho)\n",
    "    rhol = pTrace.pTraceR(dl, dr, rho)\n",
    "    return von_neumann(rhol) + von_neumann(rhor) - von_neumann(rho)\n",
    "\n",
    "'''  ENTANGLEMENT.PY   '''\n",
    "import numpy as np\n",
    "from numpy import linalg as LA\n",
    "from math import sqrt\n",
    "\n",
    "\n",
    "def concurrence(rho):\n",
    "    # print(type(rho))\n",
    "    ev = np.zeros(4, dtype='float')\n",
    "    R = np.zeros((4, 4), dtype=complex)\n",
    "    R = np.dot(rho, np.kron(Pauli(2), Pauli(2)))\n",
    "    R = np.dot(R, np.conj(rho))\n",
    "    R = np.dot(R, np.kron(Pauli(2), Pauli(2)))\n",
    "    print(R)\n",
    "    # print(type(R))\n",
    "    # ev = LA.eigvals(R)\n",
    "    ev = LA.eigvalsh(R)\n",
    "    print(ev)\n",
    "    evm = max(abs(ev[0]), abs(ev[1]), abs(ev[2]), abs(ev[3]))\n",
    "    C = 2.0*sqrt(abs(evm)) - sqrt(abs(ev[0]))\n",
    "    C = C - sqrt(abs(ev[1])) - sqrt(abs(ev[2])) - sqrt(abs(ev[3]))\n",
    "    if C < 0.0:\n",
    "        C = 0.0\n",
    "    return C\n",
    "\n",
    "\n",
    "def EoF(rho):\n",
    "    pv = np.zeros(2)\n",
    "    Ec = concurrence(rho)\n",
    "    pv[0] = (1.0 + np.sqrt(1.0 - Ec**2.0))/2.0\n",
    "    pv[1] = 1.0 - pv[0]\n",
    "    EF = shannon(2, pv)\n",
    "    return EF\n",
    "\n",
    "\n",
    "def negativity(d, rhoTp):\n",
    "    from distances import normTr\n",
    "    En = 0.5*(normTr(d, rhoTp) - 1.0)\n",
    "    return En\n",
    "\n",
    "\n",
    "def log_negativity(d, rhoTp):\n",
    "    En = negativity(d, rhoTp)\n",
    "    Eln = np.log(2.0*En+1.0, 2)\n",
    "    return Eln\n",
    "\n",
    "\n",
    "def chsh(rho):  # arXiv:1510.08030\n",
    "    import gell_mann as gm\n",
    "#    cm = np.zeros(3, 3)\n",
    "    cm = gm.corr_mat(2, 2, rho)\n",
    "    W = np.zeros(3)\n",
    "    # W = LA.eigvalsh(cm)\n",
    "    u, W, vh = LA.svd(cm, full_matrices=True)\n",
    "    no = np.sqrt(2)-1\n",
    "    nl = (sqrt(W[0]**2+W[1]**2+W[2]**2-min(W[0], W[1], W[2])**2)-1)/no\n",
    "    return max(0, nl)\n",
    "\n",
    "\n",
    "def steering(rho):  # arXiv:1510.08030\n",
    "    import gell_mann as gm\n",
    "#    cm = np.zeros(3,3)\n",
    "    cm = gm.corr_mat(2, 2, rho)\n",
    "    W = np.zeros(3)\n",
    "    # W = LA.eigvalsh(cm)\n",
    "    u, W, vh = LA.svd(cm, full_matrices=True)\n",
    "    return max(0, (sqrt((W[0]**2)+(W[1]**2)+(W[2]**2))-1)/(sqrt(3)-1))\n"
   ]
  },
  {
   "cell_type": "code",
   "execution_count": 42,
   "metadata": {},
   "outputs": [
    {
     "name": "stdout",
     "output_type": "stream",
     "text": [
      "[[ 0.2+0.j  0. +0.j  0. +0.j  0. +0.j]\n",
      " [ 0. +0.j  1.8+0.j -1.6+0.j  0. +0.j]\n",
      " [ 0. +0.j -1.6+0.j  1.8+0.j  0. +0.j]\n",
      " [ 0. +0.j  0. +0.j  0. +0.j  0.2+0.j]]\n"
     ]
    }
   ],
   "source": [
    "import sys as s\n",
    "\n",
    "def werner_state(c1, c2, c3):\n",
    "    # c = [-0.8,-0.8,-0.8]\n",
    "    c = [c1, c2, c3]\n",
    "    index = 0\n",
    "    rho = np.zeros((4,4),dtype=complex)\n",
    "    for i in range(len(rho)):\n",
    "        rho[i,i] = 1\n",
    "    for i in c:\n",
    "        index += 1\n",
    "        rho += TensorProduct(i*Pauli(index),Pauli(index))\n",
    "    print(np.array(rho,dtype=complex))\n",
    "werner = werner_state(-0.8, -0.8, -0.8)"
   ]
  },
  {
   "cell_type": "code",
   "execution_count": 78,
   "metadata": {},
   "outputs": [
    {
     "name": "stdout",
     "output_type": "stream",
     "text": [
      "<class 'sympy.matrices.dense.MutableDenseMatrix'>\n"
     ]
    }
   ],
   "source": [
    "def werner_state(c1, c2, c3):\n",
    "    state = Matrix([[1+c3, 0, 0, c1-c2],\n",
    "                    [0, 1-c3, c1+c2, 0],\n",
    "                    [0,c1+c2, 1-c3, 0],\n",
    "                    [c1-c2, 0, 0, 1+c3]],dtype=complex)\n",
    "    return state\n",
    "\n",
    "ana_costa = werner_state(-0.8,-0.8,-0.8)\n",
    "\n",
    "Mais=(cb(2,0)+cb(2,1))/sqrt(2)\n",
    "Menos=(cb(2,0)-cb(2,1))/sqrt(2)\n",
    "print(type(Mais))"
   ]
  },
  {
   "cell_type": "code",
   "execution_count": 79,
   "metadata": {},
   "outputs": [
    {
     "name": "stdout",
     "output_type": "stream",
     "text": [
      "<class 'sympy.matrices.dense.MutableDenseMatrix'>\n"
     ]
    }
   ],
   "source": [
    "print(type(ana_costa))"
   ]
  },
  {
   "cell_type": "code",
   "execution_count": 80,
   "metadata": {},
   "outputs": [
    {
     "data": {
      "image/png": "[encoded data removed]",
      "text/latex": [
       "$\\displaystyle \\left[\\begin{matrix}0.632455532033676 & 0\\\\0 & 0.632455532033676\\end{matrix}\\right]$"
      ],
      "text/plain": [
       "⎡0.632455532033676          0        ⎤\n",
       "⎢                                    ⎥\n",
       "⎣        0          0.632455532033676⎦"
      ]
     },
     "execution_count": 80,
     "metadata": {},
     "output_type": "execute_result"
    }
   ],
   "source": [
    "def K_0(alpha,J):\n",
    "    #return sqrt(exp(-alpha*J)*(cos(J/2)+alpha*sin(J/2)))*Pauli(0)\n",
    "    return sqrt(1-J/2)*Pauli(0)\n",
    "\n",
    "K_0(0.01,1.2)"
   ]
  },
  {
   "cell_type": "code",
   "execution_count": 81,
   "metadata": {},
   "outputs": [
    {
     "data": {
      "image/png": "[encoded data removed]",
      "text/latex": [
       "$\\displaystyle \\left[\\begin{matrix}0.774596669241483 & 0\\\\0 & -0.774596669241483\\end{matrix}\\right]$"
      ],
      "text/plain": [
       "⎡0.774596669241483          0         ⎤\n",
       "⎢                                     ⎥\n",
       "⎣        0          -0.774596669241483⎦"
      ]
     },
     "execution_count": 81,
     "metadata": {},
     "output_type": "execute_result"
    }
   ],
   "source": [
    "def K_1(alpha,J):\n",
    "    return sqrt(J/2)*Pauli(3)\n",
    "    return sqrt(1-exp(-alpha*J)*(cos(J/2)+alpha*sin(J/2)))*Pauli(3)\n",
    "\n",
    "K_1(0.01,1.2)"
   ]
  },
  {
   "cell_type": "code",
   "execution_count": 82,
   "metadata": {},
   "outputs": [
    {
     "data": {
      "image/png": "[encoded data removed]",
      "text/latex": [
       "$\\displaystyle \\left[\\begin{matrix}0.0182 & 0 & 0 & 0\\\\0 & 2.639 & 2.6208 & 0\\\\0 & 2.6208 & 2.639 & 0\\\\0 & 0 & 0 & 0.0182\\end{matrix}\\right]$"
      ],
      "text/plain": [
       "⎡0.0182    0       0       0   ⎤\n",
       "⎢                              ⎥\n",
       "⎢  0     2.639   2.6208    0   ⎥\n",
       "⎢                              ⎥\n",
       "⎢  0     2.6208  2.639     0   ⎥\n",
       "⎢                              ⎥\n",
       "⎣  0       0       0     0.0182⎦"
      ]
     },
     "execution_count": 82,
     "metadata": {},
     "output_type": "execute_result"
    }
   ],
   "source": [
    "#ação do canal no estado |+><+| J É O TEMPO\n",
    "def TP(a,b):\n",
    "    return TensorProduct(a,b)\n",
    "def RHO_t_NM(state,J):\n",
    "    tp1 = TP(K_0(0.01,J),K_1(0.01,J))\n",
    "    tp2 = TP(K_1(0.01,J),K_0(0.01,J))\n",
    "    return tp1*proj(state)*tp1.T + tp2*proj(state)*tp2.T\n",
    "    # return K_0(0.01,J)*proj(state)*K_0(0.01,J).T + K_1(0.01,J)*proj(state)*K_1(0.01,J).T\n",
    "    return K_0(0.01,J)*proj(state)*K_0(0.01,J).T + K_1(0.01,J)*proj(state)*K_1(0.01,J).T\n",
    "\n",
    "RHO_t_NM(werner_state(-0.8,-0.8,-0.8),0)\n",
    "RHO_t_NM(werner_state(-0.8,-0.8,-0.8),1.3)\n"
   ]
  },
  {
   "cell_type": "code",
   "execution_count": 83,
   "metadata": {},
   "outputs": [],
   "source": [
    "def get_list_p_noMarkov(list_p, type):\n",
    "    lamb = 0.05\n",
    "    gamma_0 = 2.8\n",
    "    list_p_noMarkov = []\n",
    "    if type == 'Bellomo':\n",
    "        def non_markov_list_p(lamb,gamma_0,t):\n",
    "            d = sqrt(2*gamma_0*lamb-lamb**2)\n",
    "            result = exp(-lamb*t)*(cos(d*t/2)+(lamb/d)*sin(d*t/2))**2\n",
    "            return result\n",
    "    if type == 'Ana':\n",
    "        def non_markov_list_p(lamb,gamma_0,t):\n",
    "            result = 1-exp(-lamb*t)*(cos(t/2)+(lamb)*sin(t/2))\n",
    "            return result\n",
    "    for p in list_p:\n",
    "        list_p_noMarkov.append(non_markov_list_p(lamb,gamma_0,p))\n",
    "    return list_p_noMarkov\n",
    "\n",
    "list_p = np.linspace(0.1,0.9,10)\n",
    "#t = get_list_p_noMarkov(list_p, 'Ana')"
   ]
  },
  {
   "cell_type": "code",
   "execution_count": 89,
   "metadata": {},
   "outputs": [
    {
     "name": "stdout",
     "output_type": "stream",
     "text": [
      "Matrix([[0.0199998762349344, 0, 0, 0], [0, 2.89998205406549, 2.87998217783056, 0], [0, 2.87998217783056, 2.89998205406549, 0], [0, 0, 0, 0.0199998762349344]])\n",
      "Matrix([[0.0199998762349344, 0, 0, 0], [0, 2.89998205406549, 2.87998217783056, 0], [0, 2.87998217783056, 2.89998205406549, 0], [0, 0, 0, 0.0199998762349344]])\n"
     ]
    },
    {
     "data": {
      "image/png": "[encoded data removed]",
      "text/plain": [
       "<Figure size 640x480 with 1 Axes>"
      ]
     },
     "metadata": {},
     "output_type": "display_data"
    }
   ],
   "source": [
    "from sympy import MutableDenseMatrix\n",
    "\n",
    "\n",
    "def changer(matrix):\n",
    "    rows, cols = matrix.shape\n",
    "\n",
    "    return MutableDenseMatrix(rows, cols, lambda i, j: float(matrix[i, j]))\n",
    "\n",
    "t = np.linspace(0.1,0.99,10)\n",
    "# t = get_list_p_noMarkov(list_p, 'Ana')\n",
    "t = get_list_p_noMarkov(list_p, 'Bellomo')\n",
    "\n",
    "state = Matrix(werner_state(-0.8,-0.8,-0.8))\n",
    "#t = np.linspace(0.1,0.9,10)\n",
    "\n",
    "print(RHO_t_NM(state, t[1]))\n",
    "print(changer(RHO_t_NM(state, t[1])))\n",
    "y = [coh_l1(RHO_t_NM(state, i)) for i in t]\n",
    "# y = [EoF(Matrix(RHO_t_NM(state, i))) for i in t]\n",
    "plt.plot(t,y)\n",
    "plt.show()"
   ]
  },
  {
   "cell_type": "code",
   "execution_count": null,
   "metadata": {},
   "outputs": [],
   "source": []
  },
  {
   "cell_type": "code",
   "execution_count": null,
   "metadata": {},
   "outputs": [],
   "source": []
  },
  {
   "cell_type": "code",
   "execution_count": null,
   "metadata": {},
   "outputs": [],
   "source": []
  }
 ],
 "metadata": {
  "kernelspec": {
   "display_name": "Python 3 (ipykernel)",
   "language": "python",
   "name": "python3"
  },
  "language_info": {
   "codemirror_mode": {
    "name": "ipython",
    "version": 3
   },
   "file_extension": ".py",
   "mimetype": "text/x-python",
   "name": "python",
   "nbconvert_exporter": "python",
   "pygments_lexer": "ipython3",
   "version": "3.9.13"
  }
 },
 "nbformat": 4,
 "nbformat_minor": 2
}
