{
 "cells": [
  {
   "cell_type": "code",
   "execution_count": 31,
   "metadata": {},
   "outputs": [
    {
     "name": "stdout",
     "output_type": "stream",
     "text": [
      "[1.0, 0.7305054187551943, 0.36857757273136116, 0.1520010353866408, 0.054608867028326284]\n",
      "<class 'list'>\n"
     ]
    },
    {
     "ename": "SystemExit",
     "evalue": "",
     "output_type": "error",
     "traceback": [
      "An exception has occurred, use %tb to see the full traceback.\n",
      "\u001b[0;31mSystemExit\u001b[0m\n"
     ]
    },
    {
     "name": "stderr",
     "output_type": "stream",
     "text": [
      "/home/v/anaconda3/lib/python3.9/site-packages/IPython/core/interactiveshell.py:3465: UserWarning: To exit: use 'exit', 'quit', or Ctrl-D.\n",
      "  warn(\"To exit: use 'exit', 'quit', or Ctrl-D.\", stacklevel=1)\n"
     ]
    }
   ],
   "source": [
    "import sys as s\n",
    "from src.simulation_with_save import *\n",
    "from numpy import cos, sin, sqrt, pi, exp\n",
    "def non_markov_list_p(lamb,gamma_0,t):\n",
    "    d = sqrt(2*gamma_0*lamb-lamb**2)\n",
    "    result = exp(-lamb*t)*(cos(d*t/2)+(lamb/d)*sin(d*t/2))**2\n",
    "    return result\n",
    "def get_list_p_noMarkov(list_p):\n",
    "    lamb = 5\n",
    "    gamma_0 = 2.8\n",
    "    list_p_noMarkov = []\n",
    "    for p in list_p:\n",
    "        list_p_noMarkov.append(non_markov_list_p(lamb,gamma_0,p))\n",
    "    return list_p_noMarkov\n",
    "\n",
    "\n",
    "#space = np.linspace(0, 2*pi, )\n",
    "n_qubits = 2\n",
    "list_p = np.linspace(0,1,5)\n",
    "#pj = \n",
    "list_p = get_list_p_noMarkov(list_p)\n",
    "print(list_p)\n",
    "print(type(list_p))\n",
    "s.exit()\n",
    "epochs = 80\n",
    "step_to_start = 45\n",
    "rho_AB = QCH.rho_AB_pf\n",
    "S = Simulate('pf', n_qubits, list_p, epochs, step_to_start, rho_AB)\n",
    "S.run_calcs_noMarkov(False, pi/2, 0)\n",
    "#S.run_calcs(True, pi/2, 0)\n",
    "\n",
    "#phis = [0,pi,pi/1.5,pi/2,pi/3,pi/4,pi/5]\n",
    "#S.run_sequential_bf(phis)\n",
    "plt.legend(loc=1)\n",
    "plt.show()"
   ]
  },
  {
   "cell_type": "code",
   "execution_count": 28,
   "metadata": {},
   "outputs": [
    {
     "name": "stdout",
     "output_type": "stream",
     "text": [
      "[1.0, 0.7305054187551943, 0.36857757273136116, 0.1520010353866408, 0.054608867028326284]\n",
      "<class 'list'>\n",
      "0 de 5\n",
      "{'map_name': 'ad', 'params': tensor([-2.7145, -0.0534,  2.1477,  3.8753, -2.6377,  1.2639,  1.4315, -1.5919,\n",
      "         1.2727,  0.9363,  0.1984, -0.1727,  2.0851,  1.1443, -0.4767,  2.3258,\n",
      "        -0.9372,  1.0675, -4.0592, -0.1712,  0.8396, -0.9685,  2.2840, -1.3516],\n",
      "       dtype=torch.float64, requires_grad=True), 'epochs': 80, 'theta': 1.5707963267948966, 'phi': 0, 'p': 1.0}\n",
      "1 de 5\n",
      "{'map_name': 'ad', 'params': tensor([-2.4805, -0.2624,  1.7372,  3.9875, -2.5473,  1.1250,  1.5860, -1.8780,\n",
      "         1.4071,  0.7960, -0.0309, -0.0112,  1.8051,  1.4927, -0.5561,  2.1225,\n",
      "        -1.0780,  1.1779, -3.8661, -0.0283,  0.4764, -1.5142,  2.2855, -1.6454],\n",
      "       dtype=torch.float64, requires_grad=True), 'epochs': 80, 'theta': 1.5707963267948966, 'phi': 0, 'p': 0.7305054187551943}\n",
      "2 de 5\n",
      "{'map_name': 'ad', 'params': tensor([-2.2518, -0.0652,  1.2877,  4.4216, -2.3906,  1.0764,  1.5711, -1.9957,\n",
      "         1.4200,  0.7936, -0.2466,  0.0339,  1.9546,  1.4225, -0.6164,  1.9823,\n",
      "        -0.9079,  1.1346, -3.4729, -0.0045,  0.0823, -1.5786,  2.3016, -2.0171],\n",
      "       dtype=torch.float64, requires_grad=True), 'epochs': 80, 'theta': 1.5707963267948966, 'phi': 0, 'p': 0.36857757273136116}\n",
      "3 de 5\n",
      "{'map_name': 'ad', 'params': tensor([-2.2345, -0.3573,  0.8729,  4.6748, -2.4170,  1.1018,  1.4355, -2.1277,\n",
      "         1.5158,  0.6999, -0.4725,  0.7444,  2.0672,  1.2674, -0.8870,  1.9903,\n",
      "        -0.4822,  1.2536, -3.1614, -0.0391, -0.1392, -1.6496,  2.2086, -1.9413],\n",
      "       dtype=torch.float64, requires_grad=True), 'epochs': 80, 'theta': 1.5707963267948966, 'phi': 0, 'p': 0.1520010353866408}\n",
      "4 de 5\n",
      "{'map_name': 'ad', 'params': tensor([-1.8278, -0.4172,  0.7962,  4.5796, -1.4160,  1.0027,  1.3826, -2.0775,\n",
      "         1.2159,  0.7326, -0.6342,  0.0868,  2.0632,  1.0386, -0.7882,  1.9541,\n",
      "        -0.5409,  0.9806, -3.7011, -0.1988, -0.2015, -1.4697,  1.8261, -2.0237],\n",
      "       dtype=torch.float64, requires_grad=True), 'epochs': 80, 'theta': 1.5707963267948966, 'phi': 0, 'p': 0.054608867028326284}\n",
      "[1.0, 0.7305054187551943, 0.36857757273136116, 0.1520010353866408, 0.054608867028326284]\n",
      "5\n"
     ]
    },
    {
     "data": {
      "image/png": "[encoded data removed]",
      "text/plain": [
       "<Figure size 640x480 with 1 Axes>"
      ]
     },
     "metadata": {},
     "output_type": "display_data"
    }
   ],
   "source": [
    "import sys as s\n",
    "from src.simulation_with_save import *\n",
    "from numpy import cos, sin, sqrt, pi, exp\n",
    "def non_markov_list_p(lamb,gamma_0,t):\n",
    "    d = sqrt(2*gamma_0*lamb-lamb**2)\n",
    "    result = exp(-lamb*t)*(cos(d*t/2)+(lamb/d)*sin(d*t/2))**2\n",
    "    return result\n",
    "def get_list_p_noMarkov(list_p):\n",
    "    lamb = 5\n",
    "    gamma_0 = 2.8\n",
    "    list_p_noMarkov = []\n",
    "    for p in list_p:\n",
    "        list_p_noMarkov.append(non_markov_list_p(lamb,gamma_0,p))\n",
    "    return list_p_noMarkov\n",
    "\n",
    "\n",
    "#space = np.linspace(0, 2*pi, )\n",
    "n_qubits = 2\n",
    "list_p = np.linspace(0,1,5)\n",
    "#pj = \n",
    "list_p = get_list_p_noMarkov(list_p)\n",
    "print(list_p)\n",
    "print(type(list_p))\n",
    "#s.exit()\n",
    "epochs = 80\n",
    "step_to_start = 45\n",
    "rho_AB = QCH.rho_AB_ad\n",
    "S = Simulate('ad', n_qubits, list_p, epochs, step_to_start, rho_AB)\n",
    "S.run_calcs_noMarkov(False, pi/2, 0)\n",
    "#S.run_calcs(True, pi/2, 0)\n",
    "\n",
    "#phis = [0,pi,pi/1.5,pi/2,pi/3,pi/4,pi/5]\n",
    "#S.run_sequential_bf(phis)\n",
    "plt.legend(loc=1)\n",
    "plt.show()"
   ]
  },
  {
   "cell_type": "code",
   "execution_count": null,
   "metadata": {},
   "outputs": [],
   "source": [
    "def theoric_rho_A_adg(theta, phi, p):\n",
    "        N = 0.5\n",
    "\n",
    "        state = Matrix([[((1-N)*cos(theta/2)+p*(1-N)*(sin(theta/2))**2+N*(1-p)*cos(theta/2)),\n",
    "                        2*sqrt(1-p)*exp(-1j*phi)*sin(theta/2)*cos(theta/2)],[\n",
    "                        2*sqrt(1-p)*exp(1j*phi)*sin(theta/2)*cos(theta/2), #|010\\rangle\n",
    "                        ((1-p)+N)*sin(theta/2)**2+p*N*cos(theta/2) #|111\\rangle)\n",
    "                       ]])\n",
    "        return state"
   ]
  },
  {
   "cell_type": "code",
   "execution_count": null,
   "metadata": {},
   "outputs": [],
   "source": [
    "(1)/(3) |00\\rangle\\langle00|\n",
    "(p_0)/(3)+\\(1-p_0(-i\\sqrt(3)-1))/(1)}+\\(1-p_0(i\\sqrt(3)+1))/(1)#     |00\\rangle\\langle01|\\\\\n",
    "(p_0)/(3)-1-\\(p_0(-i\\sqrt(3)+1))/(1)}+\\(1-p_0(-i\\sqrt(3)-1))/(6)#      |00\\rangle\\langle10|\\\\\n",
    "(p_0)/(3)-1-\\(p_0(i\\sqrt(3)-1))/(1)}-\\(1-p_0(i\\sqrt(3)+1))/(1)}#       |01\\rangle\\langle00|\\\\\n",
    "(p_0)/(3)+\\(1-p_0)/(6)-\\(1-p_0(2i\\sqrt(3)-1))/(1)}#        |01\\rangle\\langle01|\\\\\n",
    "(p_0)/(3)+\\(1-p_0(-i\\sqrt(3)-1))/(1)}-\\(1-p_0(1-i\\sqrt(3)))/(1)}#      |01\\rangle\\langle10|\\\\\n",
    "(p_0)/(3)-\\(1-p_0(i\\sqrt(3)+1))/(1)}+\\(1-p_0(i\\sqrt(3)-1))/(1)}#       |10\\rangle\\langle00|\\\\\n",
    "(p_0)/(3)-\\(1-p_0(1-i\\sqrt(3)))/(1)}-\\(1-p_0)/(6)#     |10\\rangle\\langle01|\\\\\n",
    "(p_0)/(3)-\\(1-p_0)/(6)+\\(1-p_0)/(6)#       |10\\rangle\\langle10|."
   ]
  },
  {
   "cell_type": "code",
   "execution_count": null,
   "metadata": {},
   "outputs": [],
   "source": [
    "def theoric_rho_A_adg(theta, phi, p):\n",
    "        N = 0.5\n",
    "\n",
    "        state = Matrix([[(1)/(3), #      |00ranglelangle00|\n",
    "                         (p)/(3)+(1-p)*(-1j*(3)-1))/(1)+(1-p)*(1j*(3)+1)/(1),#     |00ranglelangle01|\n",
    "                         (p)/(3)-1-(p)*(-1j*(3)+1)/(1)+(1-p)*(-1j*(3)-1)/(6), 0],[#      |00ranglelangle10|\n",
    "                         (p)/(3)-1-(p)*(1j*(3)-1)/(1)-(1-p)*(1j*(3)+1)/(1),#       |01ranglelangle00|\n",
    "                         (p)/(3)+(1-p)/(6)-(1-p)*(21j*(3)-1)/(1),#        |01ranglelangle01|\n",
    "                         (p)/(3)+(1-p)*(-1j*(3)-1)/(1)-(1-p)*(1-1j*(3))/(1),0],[#      |01ranglelangle10|\n",
    "                         (p)/(3)-(1-p)*(1j*(3)+1)/(1)+(1-p)*(1j*(3)-1)/(1),#       |10ranglelangle00|\n",
    "                         (p)/(3)-(1-p)*(1-1j*(3))/(1)-(1-p)/(6),0]#     |10ranglelangle01|\n",
    "                         (p)/(3)#       |10ranglelangle10|.\n",
    "                       ]])\n",
    "        return state"
   ]
  },
  {
   "cell_type": "code",
   "execution_count": null,
   "metadata": {},
   "outputs": [],
   "source": [
    "\\begin{equation}\n",
    "    \\begin{split}\n",
    "        |\\psi\\rangle_{AB} = &\\sqrt{p_0/3}|0000\\rangle \n",
    "        +\\sqrt{\\frac{1-p_0}{6}}|0001\\rangle \n",
    "        +\\sqrt{\\frac{1-p_0}{6}}|0010\\rangle \n",
    "        +0|0011\\rangle \\\\\n",
    "        +&\\sqrt{p_0/3}|0100\\rangle + \n",
    "        \\sqrt{\\frac{1-p_0}{6}}\\left(\\frac{i\\sqrt{3}-1}{2}\\right)|0101\\rangle \n",
    "        - \\sqrt{\\frac{1-p_0}{6}}\\left(\\frac{i\\sqrt{3}+1}{2}\\right)|0110\\rangle \\\\\n",
    "        +&0|0111\\rangle + \n",
    "        \\sqrt{p_0/3}|1000\\rangle \n",
    "        - \\sqrt{\\frac{1-p_0}{6}}\\left(\\frac{i\\sqrt{3}+1}{2}\\right)|1001\\rangle +\n",
    "        \\sqrt{\\frac{1-p_0}{6}}\\left(\\frac{i\\sqrt{3}-1}{2}\\right)|1010\\rangle + \\\\\n",
    "        &0|1100\\rangle + 0|1101\\rangle + 0|1110\\rangle + 0|1111\\rangle,\n",
    "    \\end{split}\n",
    "\\end{equation}"
   ]
  },
  {
   "cell_type": "code",
   "execution_count": 1,
   "metadata": {},
   "outputs": [
    {
     "ename": "NameError",
     "evalue": "name 'self' is not defined",
     "output_type": "error",
     "traceback": [
      "\u001b[0;31m---------------------------------------------------------------------------\u001b[0m",
      "\u001b[0;31mNameError\u001b[0m                                 Traceback (most recent call last)",
      "\u001b[0;32m/tmp/ipykernel_64602/2990204142.py\u001b[0m in \u001b[0;36m<module>\u001b[0;34m\u001b[0m\n\u001b[1;32m      1\u001b[0m \u001b[0mlist_of_maps\u001b[0m \u001b[0;34m=\u001b[0m \u001b[0;34m[\u001b[0m\u001b[0;34m'bpf'\u001b[0m\u001b[0;34m,\u001b[0m\u001b[0;34m'ad'\u001b[0m\u001b[0;34m,\u001b[0m\u001b[0;34m'bf'\u001b[0m\u001b[0;34m,\u001b[0m\u001b[0;34m'pf'\u001b[0m\u001b[0;34m,\u001b[0m\u001b[0;34m'pd'\u001b[0m\u001b[0;34m,\u001b[0m\u001b[0;34m'd'\u001b[0m\u001b[0;34m,\u001b[0m\u001b[0;34m'adg'\u001b[0m\u001b[0;34m,\u001b[0m\u001b[0;34m'l'\u001b[0m\u001b[0;34m]\u001b[0m\u001b[0;34m\u001b[0m\u001b[0;34m\u001b[0m\u001b[0m\n\u001b[0;32m----> 2\u001b[0;31m list_of_functions = [self.theoric_rho_A_bpf, self.theoric_rho_A_ad,\n\u001b[0m\u001b[1;32m      3\u001b[0m                      \u001b[0mself\u001b[0m\u001b[0;34m.\u001b[0m\u001b[0mtheoric_rho_A_bf\u001b[0m\u001b[0;34m,\u001b[0m \u001b[0mself\u001b[0m\u001b[0;34m.\u001b[0m\u001b[0mtheoric_rho_A_pf\u001b[0m\u001b[0;34m,\u001b[0m\u001b[0;34m\u001b[0m\u001b[0;34m\u001b[0m\u001b[0m\n\u001b[1;32m      4\u001b[0m                      \u001b[0mself\u001b[0m\u001b[0;34m.\u001b[0m\u001b[0mtheoric_rho_A_pd\u001b[0m\u001b[0;34m,\u001b[0m \u001b[0mself\u001b[0m\u001b[0;34m.\u001b[0m\u001b[0mtheoric_rho_A_d\u001b[0m\u001b[0;34m,\u001b[0m\u001b[0;34m\u001b[0m\u001b[0;34m\u001b[0m\u001b[0m\n\u001b[1;32m      5\u001b[0m                      \u001b[0mself\u001b[0m\u001b[0;34m.\u001b[0m\u001b[0mtheoric_rho_A_adg\u001b[0m\u001b[0;34m,\u001b[0m\u001b[0mself\u001b[0m\u001b[0;34m.\u001b[0m\u001b[0mtheoric_rho_A_l\u001b[0m\u001b[0;34m\u001b[0m\u001b[0;34m\u001b[0m\u001b[0m\n",
      "\u001b[0;31mNameError\u001b[0m: name 'self' is not defined"
     ]
    }
   ],
   "source": [
    "list_of_maps = ['bpf','ad','bf','pf','pd','d','adg','l']\n",
    "list_of_functions = ['self.theoric_rho_A_bpf', 'self.theoric_rho_A_ad',\n",
    "                     'self.theoric_rho_A_bf', 'self.theoric_rho_A_pf',\n",
    "                     'self.theoric_rho_A_pd', 'self.theoric_rho_A_d',\n",
    "                     'self.theoric_rho_A_adg','self.theoric_rho_A_l'\n",
    "                    ]\n",
    "\n",
    "# Combine as duas listas em uma lista de tuplas\n",
    "tuples_list = list(zip(list_of_maps, list_of_functions))\n",
    "\n",
    "# Crie um dicionário a partir da lista de tuplas\n",
    "my_dict = dict(tuples_list)\n",
    "my_dict"
   ]
  },
  {
   "cell_type": "code",
   "execution_count": 4,
   "metadata": {},
   "outputs": [
    {
     "data": {
      "text/latex": [
       "$\\displaystyle \\left[\\begin{matrix}\\sqrt{p} \\cos{\\left(\\frac{\\theta}{2} \\right)} & \\sqrt{\\gamma} \\sqrt{p} e^{1.0 i \\phi} \\sin{\\left(\\frac{\\theta}{2} \\right)} & \\sqrt{\\left(1 - \\gamma\\right) \\left(1 - p\\right)} \\cos{\\left(\\frac{\\theta}{2} \\right)} & 0 & \\sqrt{p} \\sqrt{1 - \\gamma} e^{1.0 i \\phi} \\sin{\\left(\\frac{\\theta}{2} \\right)} & 0 & \\sqrt{1 - p} e^{1.0 i \\phi} \\sin{\\left(\\frac{\\theta}{2} \\right)} & \\sqrt{\\gamma} \\sqrt{1 - p} \\cos{\\left(\\frac{\\theta}{2} \\right)}\\end{matrix}\\right]$"
      ],
      "text/plain": [
       "Matrix([[sqrt(p)*cos(theta/2), sqrt(gamma)*sqrt(p)*exp(1.0*I*phi)*sin(theta/2), sqrt((1 - gamma)*(1 - p))*cos(theta/2), 0, sqrt(p)*sqrt(1 - gamma)*exp(1.0*I*phi)*sin(theta/2), 0, sqrt(1 - p)*exp(1.0*I*phi)*sin(theta/2), sqrt(gamma)*sqrt(1 - p)*cos(theta/2)]])"
      ]
     },
     "execution_count": 4,
     "metadata": {},
     "output_type": "execute_result"
    }
   ],
   "source": [
    "from sympy import Symbol,simplify,print_latex\n",
    "import sys\n",
    "sys.path.append('runtime-qiskit')\n",
    "sys.path.append('src')\n",
    "from theoric_channels import TheoricMaps\n",
    "a = TheoricMaps()\n",
    "theta = Symbol('theta',real=True)\n",
    "phi = Symbol('phi',real=True)\n",
    "gamma = Symbol('gamma',real=True, positive=True)\n",
    "p = Symbol('p',real=True, positive=True)\n",
    "from kraus_maps import QuantumChannels\n",
    "a = QuantumChannels()\n",
    "a.rho_AB_adg(theta,phi,p, gamma)"
   ]
  },
  {
   "cell_type": "code",
   "execution_count": 1,
   "metadata": {},
   "outputs": [
    {
     "ename": "AttributeError",
     "evalue": "'TheoricMaps' object has no attribute 'theoric_rho_A_l'",
     "output_type": "error",
     "traceback": [
      "\u001b[0;31m---------------------------------------------------------------------------\u001b[0m",
      "\u001b[0;31mAttributeError\u001b[0m                            Traceback (most recent call last)",
      "\u001b[0;32m/tmp/ipykernel_553538/3067227180.py\u001b[0m in \u001b[0;36m<module>\u001b[0;34m\u001b[0m\n\u001b[1;32m      9\u001b[0m \u001b[0mgamma\u001b[0m \u001b[0;34m=\u001b[0m \u001b[0mSymbol\u001b[0m\u001b[0;34m(\u001b[0m\u001b[0;34m'gamma'\u001b[0m\u001b[0;34m,\u001b[0m\u001b[0mreal\u001b[0m\u001b[0;34m=\u001b[0m\u001b[0;32mTrue\u001b[0m\u001b[0;34m,\u001b[0m \u001b[0mpositive\u001b[0m\u001b[0;34m=\u001b[0m\u001b[0;32mTrue\u001b[0m\u001b[0;34m)\u001b[0m\u001b[0;34m\u001b[0m\u001b[0;34m\u001b[0m\u001b[0m\n\u001b[1;32m     10\u001b[0m \u001b[0mp\u001b[0m \u001b[0;34m=\u001b[0m \u001b[0mSymbol\u001b[0m\u001b[0;34m(\u001b[0m\u001b[0;34m'p'\u001b[0m\u001b[0;34m,\u001b[0m\u001b[0mreal\u001b[0m\u001b[0;34m=\u001b[0m\u001b[0;32mTrue\u001b[0m\u001b[0;34m,\u001b[0m \u001b[0mpositive\u001b[0m\u001b[0;34m=\u001b[0m\u001b[0;32mTrue\u001b[0m\u001b[0;34m)\u001b[0m\u001b[0;34m\u001b[0m\u001b[0;34m\u001b[0m\u001b[0m\n\u001b[0;32m---> 11\u001b[0;31m \u001b[0ma\u001b[0m\u001b[0;34m.\u001b[0m\u001b[0mtheoric_rho_A_l\u001b[0m\u001b[0;34m(\u001b[0m\u001b[0mtheta\u001b[0m\u001b[0;34m,\u001b[0m\u001b[0mphi\u001b[0m\u001b[0;34m,\u001b[0m\u001b[0mp\u001b[0m\u001b[0;34m)\u001b[0m\u001b[0;34m\u001b[0m\u001b[0;34m\u001b[0m\u001b[0m\n\u001b[0m",
      "\u001b[0;31mAttributeError\u001b[0m: 'TheoricMaps' object has no attribute 'theoric_rho_A_l'"
     ]
    }
   ],
   "source": [
    "from sympy import Symbol\n",
    "import sys\n",
    "sys.path.append('runtime-qiskit')\n",
    "sys.path.append('src')\n",
    "from theoric_channels import TheoricMaps\n",
    "a = TheoricMaps()\n",
    "theta = Symbol('theta',real=True)\n",
    "phi = Symbol('phi',real=True)\n",
    "gamma = Symbol('gamma',real=True, positive=True)\n",
    "p = Symbol('p',real=True, positive=True)\n",
    "a.theoric_rho_A_l(theta,phi,p)"
   ]
  },
  {
   "cell_type": "code",
   "execution_count": 1,
   "metadata": {},
   "outputs": [
    {
     "name": "stdout",
     "output_type": "stream",
     "text": [
      "[[1.0, 0, 0, 0]]\n",
      "<src.simulation.Simulate object at 0x7f651c29f550>\n",
      "0 de 5\n",
      "1 de 5\n",
      "2 de 5\n",
      "3 de 5\n",
      "4 de 5\n"
     ]
    },
    {
     "data": {
      "image/png": "[encoded data removed]",
      "text/plain": [
       "<Figure size 640x480 with 1 Axes>"
      ]
     },
     "metadata": {},
     "output_type": "display_data"
    }
   ],
   "source": [
    "from src.simulation import Simulate\n",
    "from src.kraus_maps import QuantumChannels as QCH\n",
    "from src.theoric_channels import TheoricMaps as TM\n",
    "\n",
    "from sympy import pi\n",
    "import numpy as np\n",
    "#----------------------------------------------------------------------------------------\n",
    "# escolha um estado-------------------\n",
    "\n",
    "#rho_AB = QCH.rho_AB_bpf\n",
    "#rho_AB = QCH.rho_AB_bf(pi/2, 0, 0.5)\n",
    "#rho_AB = QCH.rho_AB_pf(pi/2, 0, 0.5)\n",
    "#rho_AB = QCH.rho_AB_pd(pi/2, 0, 0.5)\n",
    "#rho_AB = QCH.rho_AB_ad(pi/2, 0, 0. 5)\n",
    "#rho_AB = QCH.rho_AB_adg(pi/2, 0, 0. 5)\n",
    "rho_AB = QCH.rho_AB_d(pi/2, 0, 0. 5)\n",
    "#rho_AB = QCH.rho_AB_l(pi/2, 0, 0. 5)\n",
    "#rho_AB = QCH.rho_AB_H(pi/2, 0, 0. 5)\n",
    "#rho_AB = QCH.rho_AB_ad3(pi/2, 0, 0. 5)\n",
    "\n",
    "#rho_AB = QCH.rho_AB_d(pi/2, 0, 0.5)\n",
    "#----------------------------------------------------------------------------------------\n",
    "plot_theoric = TM.theoric_rho_A_bpf\n",
    "#plot_theoric = TM.theoric_rho_A_bf\n",
    "#plot_theoric = TM.theoric_rho_A_pf\n",
    "#plot_theoric = TM.theoric_rho_A_pd\n",
    "#plot_theoric = TM.theoric_rho_A_ad\n",
    "#plot_theoric = TM.theoric_rho_A_adg\n",
    "#plot_theoric = TM.theoric_rho_A_d\n",
    "#plot_theoric = TM.theoric_rho_A_l\n",
    "#plot_theoric = TM.theoric_rho_A_H\n",
    "#plot_theoric = TM.theoric_rho_A_ad3\n",
    "\n",
    "\n",
    "\n",
    "\n",
    "n_qubits = 2\n",
    "list_p = np.linspace(0,1,5)\n",
    "epochs = 35\n",
    "step_to_start = 85\n",
    "\n",
    "S = Simulate('bpf/ClassTest', n_qubits, list_p, epochs, step_to_start, rho_AB, plot_theoric)\n",
    "\n",
    "S.run_calcs()"
   ]
  },
  {
   "cell_type": "code",
   "execution_count": null,
   "metadata": {},
   "outputs": [
    {
     "ename": "TypeError",
     "evalue": "QuantumChannels.rho_AB_bf() missing 3 required positional arguments: 'theta', 'phi', and 'p'",
     "output_type": "error",
     "traceback": [
      "\u001b[0;31m---------------------------------------------------------------------------\u001b[0m",
      "\u001b[0;31mTypeError\u001b[0m                                 Traceback (most recent call last)",
      "Cell \u001b[0;32mIn[5], line 10\u001b[0m\n\u001b[1;32m      6\u001b[0m \u001b[39mimport\u001b[39;00m \u001b[39mnumpy\u001b[39;00m \u001b[39mas\u001b[39;00m \u001b[39mnp\u001b[39;00m\n\u001b[1;32m      7\u001b[0m \u001b[39m#----------------------------------------------------------------------------------------\u001b[39;00m\n\u001b[1;32m      8\u001b[0m \u001b[39m# escolha um estado-------------------\u001b[39;00m\n\u001b[0;32m---> 10\u001b[0m rho_AB \u001b[39m=\u001b[39m QCH\u001b[39m.\u001b[39;49mrho_AB_bf()\n\u001b[1;32m     11\u001b[0m \u001b[39m#rho_AB = QCH.rho_AB_pf(pi/2, 0, 0.5)\u001b[39;00m\n\u001b[1;32m     12\u001b[0m \u001b[39m#rho_AB = QCH.rho_AB_pd(pi/2, 0, 0.5)\u001b[39;00m\n\u001b[1;32m     13\u001b[0m \u001b[39m#rho_AB = QCH.rho_AB_ad(pi/2, 0, 0. 5)\u001b[39;00m\n\u001b[0;32m   (...)\u001b[0m\n\u001b[1;32m     20\u001b[0m \u001b[39m#rho_AB = QCH.rho_AB_d(pi/2, 0, 0.5)\u001b[39;00m\n\u001b[1;32m     21\u001b[0m \u001b[39m#----------------------------------------------------------------------------------------\u001b[39;00m\n\u001b[1;32m     22\u001b[0m plot_theoric \u001b[39m=\u001b[39m TM\u001b[39m.\u001b[39mtheoric_rho_A_bf\n",
      "\u001b[0;31mTypeError\u001b[0m: QuantumChannels.rho_AB_bf() missing 3 required positional arguments: 'theta', 'phi', and 'p'"
     ]
    }
   ],
   "source": [
    "from src.simulation import Simulate\n",
    "from src.kraus_maps import QuantumChannels as QCH\n",
    "from src.theoric_channels import TheoricMaps as TM\n",
    "\n",
    "from sympy import pi\n",
    "import numpy as np\n",
    "#----------------------------------------------------------------------------------------\n",
    "# escolha um estado-------------------\n",
    "\n",
    "rho_AB = QCH.rho_AB_bf\n",
    "#rho_AB = QCH.rho_AB_pf(pi/2, 0, 0.5)\n",
    "#rho_AB = QCH.rho_AB_pd(pi/2, 0, 0.5)\n",
    "#rho_AB = QCH.rho_AB_ad(pi/2, 0, 0. 5)\n",
    "#rho_AB = QCH.rho_AB_adg(pi/2, 0, 0. 5)\n",
    "#rho_AB = QCH.rho_AB_d(pi/2, 0, 0. 5)\n",
    "#rho_AB = QCH.rho_AB_l(pi/2, 0, 0. 5)\n",
    "#rho_AB = QCH.rho_AB_H(pi/2, 0, 0. 5)\n",
    "#rho_AB = QCH.rho_AB_ad3(pi/2, 0, 0. 5)\n",
    "\n",
    "#rho_AB = QCH.rho_AB_d(pi/2, 0, 0.5)\n",
    "#----------------------------------------------------------------------------------------\n",
    "plot_theoric = TM.theoric_rho_A_bf\n",
    "#plot_theoric = TM.theoric_rho_A_pf\n",
    "#plot_theoric = TM.theoric_rho_A_pd\n",
    "#plot_theoric = TM.theoric_rho_A_ad\n",
    "#plot_theoric = TM.theoric_rho_A_adg\n",
    "#plot_theoric = TM.theoric_rho_A_d\n",
    "#plot_theoric = TM.theoric_rho_A_l\n",
    "#plot_theoric = TM.theoric_rho_A_H\n",
    "#plot_theoric = TM.theoric_rho_A_ad3\n",
    "\n",
    "\n",
    "\n",
    "\n",
    "n_qubits = 2\n",
    "list_p = np.linspace(0,1,21)\n",
    "epochs = 120\n",
    "step_to_start = 85\n",
    "\n",
    "S = Simulate('bf/ClassTest', n_qubits, list_p, epochs, step_to_start, rho_AB, plot_theoric)\n",
    "\n",
    "S.run_calcs()"
   ]
  },
  {
   "cell_type": "code",
   "execution_count": null,
   "metadata": {},
   "outputs": [],
   "source": [
    "from src.simulation import Simulate\n",
    "from src.kraus_maps import QuantumChannels as QCH\n",
    "from src.theoric_channels import TheoricMaps as TM\n",
    "\n",
    "from sympy import pi\n",
    "import numpy as np\n",
    "#----------------------------------------------------------------------------------------\n",
    "# escolha um estado-------------------\n",
    "\n",
    "rho_AB = QCH.rho_AB_pf\n",
    "#rho_AB = QCH.rho_AB_pd(pi/2, 0, 0.5)\n",
    "#rho_AB = QCH.rho_AB_ad(pi/2, 0, 0. 5)\n",
    "#rho_AB = QCH.rho_AB_adg(pi/2, 0, 0. 5)\n",
    "#rho_AB = QCH.rho_AB_d(pi/2, 0, 0. 5)\n",
    "#rho_AB = QCH.rho_AB_l(pi/2, 0, 0. 5)\n",
    "#rho_AB = QCH.rho_AB_H(pi/2, 0, 0. 5)\n",
    "#rho_AB = QCH.rho_AB_ad3(pi/2, 0, 0. 5)\n",
    "\n",
    "#rho_AB = QCH.rho_AB_d(pi/2, 0, 0.5)\n",
    "#----------------------------------------------------------------------------------------\n",
    "plot_theoric = TM.theoric_rho_A_pf\n",
    "#plot_theoric = TM.theoric_rho_A_pd\n",
    "#plot_theoric = TM.theoric_rho_A_ad\n",
    "#plot_theoric = TM.theoric_rho_A_adg\n",
    "#plot_theoric = TM.theoric_rho_A_d\n",
    "#plot_theoric = TM.theoric_rho_A_l\n",
    "#plot_theoric = TM.theoric_rho_A_H\n",
    "#plot_theoric = TM.theoric_rho_A_ad3\n",
    "\n",
    "\n",
    "\n",
    "\n",
    "n_qubits = 2\n",
    "list_p = np.linspace(0,1,21)\n",
    "epochs = 120\n",
    "step_to_start = 85\n",
    "\n",
    "S = Simulate('pf/ClassTest', n_qubits, list_p, epochs, step_to_start, rho_AB, plot_theoric)\n",
    "\n",
    "S.run_calcs()"
   ]
  },
  {
   "cell_type": "code",
   "execution_count": null,
   "metadata": {},
   "outputs": [],
   "source": [
    "from src.simulation import Simulate\n",
    "from src.kraus_maps import QuantumChannels as QCH\n",
    "from src.theoric_channels import TheoricMaps as TM\n",
    "\n",
    "from sympy import pi\n",
    "import numpy as np\n",
    "#----------------------------------------------------------------------------------------\n",
    "# escolha um estado-------------------\n",
    "\n",
    "rho_AB = QCH.rho_AB_pd\n",
    "#rho_AB = QCH.rho_AB_ad(pi/2, 0, 0. 5)\n",
    "#rho_AB = QCH.rho_AB_adg(pi/2, 0, 0. 5)\n",
    "#rho_AB = QCH.rho_AB_d(pi/2, 0, 0. 5)\n",
    "#rho_AB = QCH.rho_AB_l(pi/2, 0, 0. 5)\n",
    "#rho_AB = QCH.rho_AB_H(pi/2, 0, 0. 5)\n",
    "#rho_AB = QCH.rho_AB_ad3(pi/2, 0, 0. 5)\n",
    "\n",
    "#rho_AB = QCH.rho_AB_d(pi/2, 0, 0.5)\n",
    "#----------------------------------------------------------------------------------------\n",
    "plot_theoric = TM.theoric_rho_A_pf\n",
    "\n",
    "\n",
    "\n",
    "\n",
    "n_qubits = 2\n",
    "list_p = np.linspace(0,1,21)\n",
    "epochs = 120\n",
    "step_to_start = 85\n",
    "\n",
    "S = Simulate('pd/ClassTest', n_qubits, list_p, epochs, step_to_start, rho_AB, plot_theoric)\n",
    "\n",
    "S.run_calcs()"
   ]
  },
  {
   "cell_type": "code",
   "execution_count": null,
   "metadata": {},
   "outputs": [],
   "source": [
    "from src.simulation import Simulate\n",
    "from src.kraus_maps import QuantumChannels as QCH\n",
    "from src.theoric_channels import TheoricMaps as TM\n",
    "\n",
    "from sympy import pi\n",
    "import numpy as np\n",
    "#----------------------------------------------------------------------------------------\n",
    "# escolha um estado-------------------\n",
    "\n",
    "rho_AB = QCH.rho_AB_ad\n",
    "#rho_AB = QCH.rho_AB_adg(pi/2, 0, 0. 5)\n",
    "#rho_AB = QCH.rho_AB_d(pi/2, 0, 0. 5)\n",
    "#rho_AB = QCH.rho_AB_l(pi/2, 0, 0. 5)\n",
    "#rho_AB = QCH.rho_AB_H(pi/2, 0, 0. 5)\n",
    "#rho_AB = QCH.rho_AB_ad3(pi/2, 0, 0. 5)\n",
    "\n",
    "#rho_AB = QCH.rho_AB_d(pi/2, 0, 0.5)\n",
    "#----------------------------------------------------------------------------------------\n",
    "plot_theoric = TM.theoric_rho_A_pf\n",
    "\n",
    "\n",
    "\n",
    "\n",
    "n_qubits = 2\n",
    "list_p = np.linspace(0,1,21)\n",
    "epochs = 120\n",
    "step_to_start = 85\n",
    "\n",
    "S = Simulate('ad/ClassTest', n_qubits, list_p, epochs, step_to_start, rho_AB, plot_theoric)\n",
    "\n",
    "S.run_calcs()"
   ]
  },
  {
   "cell_type": "code",
   "execution_count": null,
   "metadata": {},
   "outputs": [],
   "source": []
  },
  {
   "cell_type": "code",
   "execution_count": null,
   "metadata": {},
   "outputs": [],
   "source": []
  },
  {
   "cell_type": "code",
   "execution_count": null,
   "metadata": {},
   "outputs": [],
   "source": []
  },
  {
   "cell_type": "code",
   "execution_count": null,
   "metadata": {},
   "outputs": [],
   "source": []
  },
  {
   "cell_type": "code",
   "execution_count": null,
   "metadata": {},
   "outputs": [],
   "source": []
  }
 ],
 "metadata": {
  "kernelspec": {
   "display_name": "env",
   "language": "python",
   "name": "python3"
  },
  "language_info": {
   "codemirror_mode": {
    "name": "ipython",
    "version": 3
   },
   "file_extension": ".py",
   "mimetype": "text/x-python",
   "name": "python",
   "nbconvert_exporter": "python",
   "pygments_lexer": "ipython3",
   "version": "3.9.13"
  },
  "orig_nbformat": 4
 },
 "nbformat": 4,
 "nbformat_minor": 2
}
