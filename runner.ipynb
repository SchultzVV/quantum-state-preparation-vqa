{
 "cells": [
  {
   "cell_type": "code",
   "execution_count": 4,
   "metadata": {},
   "outputs": [
    {
     "data": {
      "text/latex": [
       "$\\displaystyle \\left[\\begin{matrix}0.707106781186548 e^{1.0 i \\phi} \\sin{\\left(\\frac{p}{2} \\right)} \\sin{\\left(\\frac{\\theta}{2} \\right)} + 0.707106781186548 \\cos{\\left(\\frac{p}{2} \\right)} \\cos{\\left(\\frac{\\theta}{2} \\right)} & - 0.707106781186548 e^{1.0 i \\phi} \\sin{\\left(\\frac{p}{2} \\right)} \\sin{\\left(\\frac{\\theta}{2} \\right)} + 0.707106781186548 \\cos{\\left(\\frac{p}{2} \\right)} \\cos{\\left(\\frac{\\theta}{2} \\right)} & 0.707106781186548 e^{1.0 i \\phi} \\sin{\\left(\\frac{\\theta}{2} \\right)} \\cos{\\left(\\frac{p}{2} \\right)} - 0.707106781186548 \\sin{\\left(\\frac{p}{2} \\right)} \\cos{\\left(\\frac{\\theta}{2} \\right)} & 0.707106781186548 e^{1.0 i \\phi} \\sin{\\left(\\frac{\\theta}{2} \\right)} \\cos{\\left(\\frac{p}{2} \\right)} + 0.707106781186548 \\sin{\\left(\\frac{p}{2} \\right)} \\cos{\\left(\\frac{\\theta}{2} \\right)}\\end{matrix}\\right]$"
      ],
      "text/plain": [
       "Matrix([[0.707106781186548*exp(1.0*I*phi)*sin(p/2)*sin(theta/2) + 0.707106781186548*cos(p/2)*cos(theta/2), -0.707106781186548*exp(1.0*I*phi)*sin(p/2)*sin(theta/2) + 0.707106781186548*cos(p/2)*cos(theta/2), 0.707106781186548*exp(1.0*I*phi)*sin(theta/2)*cos(p/2) - 0.707106781186548*sin(p/2)*cos(theta/2), 0.707106781186548*exp(1.0*I*phi)*sin(theta/2)*cos(p/2) + 0.707106781186548*sin(p/2)*cos(theta/2)]])"
      ]
     },
     "execution_count": 4,
     "metadata": {},
     "output_type": "execute_result"
    }
   ],
   "source": [
    "from sympy import Symbol,simplify,print_latex\n",
    "import sys\n",
    "sys.path.append('runtime-qiskit')\n",
    "sys.path.append('src')\n",
    "from theoric_channels import TheoricMaps\n",
    "a = TheoricMaps()\n",
    "theta = Symbol('theta',real=True)\n",
    "phi = Symbol('phi',real=True)\n",
    "gamma = Symbol('gamma',real=True, positive=True)\n",
    "p = Symbol('p',real=True, positive=True)\n",
    "from kraus_maps import QuantumChannels\n",
    "a = QuantumChannels()\n",
    "simplify(a.rho_AB_l(theta,phi,p))"
   ]
  },
  {
   "cell_type": "code",
   "execution_count": 1,
   "metadata": {},
   "outputs": [
    {
     "ename": "AttributeError",
     "evalue": "'TheoricMaps' object has no attribute 'theoric_rho_A_l'",
     "output_type": "error",
     "traceback": [
      "\u001b[0;31m---------------------------------------------------------------------------\u001b[0m",
      "\u001b[0;31mAttributeError\u001b[0m                            Traceback (most recent call last)",
      "\u001b[0;32m/tmp/ipykernel_553538/3067227180.py\u001b[0m in \u001b[0;36m<module>\u001b[0;34m\u001b[0m\n\u001b[1;32m      9\u001b[0m \u001b[0mgamma\u001b[0m \u001b[0;34m=\u001b[0m \u001b[0mSymbol\u001b[0m\u001b[0;34m(\u001b[0m\u001b[0;34m'gamma'\u001b[0m\u001b[0;34m,\u001b[0m\u001b[0mreal\u001b[0m\u001b[0;34m=\u001b[0m\u001b[0;32mTrue\u001b[0m\u001b[0;34m,\u001b[0m \u001b[0mpositive\u001b[0m\u001b[0;34m=\u001b[0m\u001b[0;32mTrue\u001b[0m\u001b[0;34m)\u001b[0m\u001b[0;34m\u001b[0m\u001b[0;34m\u001b[0m\u001b[0m\n\u001b[1;32m     10\u001b[0m \u001b[0mp\u001b[0m \u001b[0;34m=\u001b[0m \u001b[0mSymbol\u001b[0m\u001b[0;34m(\u001b[0m\u001b[0;34m'p'\u001b[0m\u001b[0;34m,\u001b[0m\u001b[0mreal\u001b[0m\u001b[0;34m=\u001b[0m\u001b[0;32mTrue\u001b[0m\u001b[0;34m,\u001b[0m \u001b[0mpositive\u001b[0m\u001b[0;34m=\u001b[0m\u001b[0;32mTrue\u001b[0m\u001b[0;34m)\u001b[0m\u001b[0;34m\u001b[0m\u001b[0;34m\u001b[0m\u001b[0m\n\u001b[0;32m---> 11\u001b[0;31m \u001b[0ma\u001b[0m\u001b[0;34m.\u001b[0m\u001b[0mtheoric_rho_A_l\u001b[0m\u001b[0;34m(\u001b[0m\u001b[0mtheta\u001b[0m\u001b[0;34m,\u001b[0m\u001b[0mphi\u001b[0m\u001b[0;34m,\u001b[0m\u001b[0mp\u001b[0m\u001b[0;34m)\u001b[0m\u001b[0;34m\u001b[0m\u001b[0;34m\u001b[0m\u001b[0m\n\u001b[0m",
      "\u001b[0;31mAttributeError\u001b[0m: 'TheoricMaps' object has no attribute 'theoric_rho_A_l'"
     ]
    }
   ],
   "source": [
    "from sympy import Symbol\n",
    "import sys\n",
    "sys.path.append('runtime-qiskit')\n",
    "sys.path.append('src')\n",
    "from theoric_channels import TheoricMaps\n",
    "a = TheoricMaps()\n",
    "theta = Symbol('theta',real=True)\n",
    "phi = Symbol('phi',real=True)\n",
    "gamma = Symbol('gamma',real=True, positive=True)\n",
    "p = Symbol('p',real=True, positive=True)\n",
    "a.theoric_rho_A_l(theta,phi,p)"
   ]
  },
  {
   "cell_type": "code",
   "execution_count": 1,
   "metadata": {},
   "outputs": [
    {
     "name": "stdout",
     "output_type": "stream",
     "text": [
      "[[1.0, 0, 0, 0]]\n",
      "<src.simulation.Simulate object at 0x7f651c29f550>\n",
      "0 de 5\n",
      "1 de 5\n",
      "2 de 5\n",
      "3 de 5\n",
      "4 de 5\n"
     ]
    },
    {
     "data": {
      "image/png": "[encoded data removed]",
      "text/plain": [
       "<Figure size 640x480 with 1 Axes>"
      ]
     },
     "metadata": {},
     "output_type": "display_data"
    }
   ],
   "source": [
    "from src.simulation import Simulate\n",
    "from src.kraus_maps import QuantumChannels as QCH\n",
    "from src.theoric_channels import TheoricMaps as TM\n",
    "\n",
    "from sympy import pi\n",
    "import numpy as np\n",
    "#----------------------------------------------------------------------------------------\n",
    "# escolha um estado-------------------\n",
    "\n",
    "#rho_AB = QCH.rho_AB_bpf\n",
    "#rho_AB = QCH.rho_AB_bf(pi/2, 0, 0.5)\n",
    "#rho_AB = QCH.rho_AB_pf(pi/2, 0, 0.5)\n",
    "#rho_AB = QCH.rho_AB_pd(pi/2, 0, 0.5)\n",
    "#rho_AB = QCH.rho_AB_ad(pi/2, 0, 0. 5)\n",
    "#rho_AB = QCH.rho_AB_adg(pi/2, 0, 0. 5)\n",
    "rho_AB = QCH.rho_AB_d(pi/2, 0, 0. 5)\n",
    "#rho_AB = QCH.rho_AB_l(pi/2, 0, 0. 5)\n",
    "#rho_AB = QCH.rho_AB_H(pi/2, 0, 0. 5)\n",
    "#rho_AB = QCH.rho_AB_ad3(pi/2, 0, 0. 5)\n",
    "\n",
    "#rho_AB = QCH.rho_AB_d(pi/2, 0, 0.5)\n",
    "#----------------------------------------------------------------------------------------\n",
    "plot_theoric = TM.theoric_rho_A_bpf\n",
    "#plot_theoric = TM.theoric_rho_A_bf\n",
    "#plot_theoric = TM.theoric_rho_A_pf\n",
    "#plot_theoric = TM.theoric_rho_A_pd\n",
    "#plot_theoric = TM.theoric_rho_A_ad\n",
    "#plot_theoric = TM.theoric_rho_A_adg\n",
    "#plot_theoric = TM.theoric_rho_A_d\n",
    "#plot_theoric = TM.theoric_rho_A_l\n",
    "#plot_theoric = TM.theoric_rho_A_H\n",
    "#plot_theoric = TM.theoric_rho_A_ad3\n",
    "\n",
    "\n",
    "\n",
    "\n",
    "n_qubits = 2\n",
    "list_p = np.linspace(0,1,5)\n",
    "epochs = 35\n",
    "step_to_start = 85\n",
    "\n",
    "S = Simulate('bpf/ClassTest', n_qubits, list_p, epochs, step_to_start, rho_AB, plot_theoric)\n",
    "\n",
    "S.run_calcs()"
   ]
  },
  {
   "cell_type": "code",
   "execution_count": null,
   "metadata": {},
   "outputs": [
    {
     "ename": "TypeError",
     "evalue": "QuantumChannels.rho_AB_bf() missing 3 required positional arguments: 'theta', 'phi', and 'p'",
     "output_type": "error",
     "traceback": [
      "\u001b[0;31m---------------------------------------------------------------------------\u001b[0m",
      "\u001b[0;31mTypeError\u001b[0m                                 Traceback (most recent call last)",
      "Cell \u001b[0;32mIn[5], line 10\u001b[0m\n\u001b[1;32m      6\u001b[0m \u001b[39mimport\u001b[39;00m \u001b[39mnumpy\u001b[39;00m \u001b[39mas\u001b[39;00m \u001b[39mnp\u001b[39;00m\n\u001b[1;32m      7\u001b[0m \u001b[39m#----------------------------------------------------------------------------------------\u001b[39;00m\n\u001b[1;32m      8\u001b[0m \u001b[39m# escolha um estado-------------------\u001b[39;00m\n\u001b[0;32m---> 10\u001b[0m rho_AB \u001b[39m=\u001b[39m QCH\u001b[39m.\u001b[39;49mrho_AB_bf()\n\u001b[1;32m     11\u001b[0m \u001b[39m#rho_AB = QCH.rho_AB_pf(pi/2, 0, 0.5)\u001b[39;00m\n\u001b[1;32m     12\u001b[0m \u001b[39m#rho_AB = QCH.rho_AB_pd(pi/2, 0, 0.5)\u001b[39;00m\n\u001b[1;32m     13\u001b[0m \u001b[39m#rho_AB = QCH.rho_AB_ad(pi/2, 0, 0. 5)\u001b[39;00m\n\u001b[0;32m   (...)\u001b[0m\n\u001b[1;32m     20\u001b[0m \u001b[39m#rho_AB = QCH.rho_AB_d(pi/2, 0, 0.5)\u001b[39;00m\n\u001b[1;32m     21\u001b[0m \u001b[39m#----------------------------------------------------------------------------------------\u001b[39;00m\n\u001b[1;32m     22\u001b[0m plot_theoric \u001b[39m=\u001b[39m TM\u001b[39m.\u001b[39mtheoric_rho_A_bf\n",
      "\u001b[0;31mTypeError\u001b[0m: QuantumChannels.rho_AB_bf() missing 3 required positional arguments: 'theta', 'phi', and 'p'"
     ]
    }
   ],
   "source": [
    "from src.simulation import Simulate\n",
    "from src.kraus_maps import QuantumChannels as QCH\n",
    "from src.theoric_channels import TheoricMaps as TM\n",
    "\n",
    "from sympy import pi\n",
    "import numpy as np\n",
    "#----------------------------------------------------------------------------------------\n",
    "# escolha um estado-------------------\n",
    "\n",
    "rho_AB = QCH.rho_AB_bf\n",
    "#rho_AB = QCH.rho_AB_pf(pi/2, 0, 0.5)\n",
    "#rho_AB = QCH.rho_AB_pd(pi/2, 0, 0.5)\n",
    "#rho_AB = QCH.rho_AB_ad(pi/2, 0, 0. 5)\n",
    "#rho_AB = QCH.rho_AB_adg(pi/2, 0, 0. 5)\n",
    "#rho_AB = QCH.rho_AB_d(pi/2, 0, 0. 5)\n",
    "#rho_AB = QCH.rho_AB_l(pi/2, 0, 0. 5)\n",
    "#rho_AB = QCH.rho_AB_H(pi/2, 0, 0. 5)\n",
    "#rho_AB = QCH.rho_AB_ad3(pi/2, 0, 0. 5)\n",
    "\n",
    "#rho_AB = QCH.rho_AB_d(pi/2, 0, 0.5)\n",
    "#----------------------------------------------------------------------------------------\n",
    "plot_theoric = TM.theoric_rho_A_bf\n",
    "#plot_theoric = TM.theoric_rho_A_pf\n",
    "#plot_theoric = TM.theoric_rho_A_pd\n",
    "#plot_theoric = TM.theoric_rho_A_ad\n",
    "#plot_theoric = TM.theoric_rho_A_adg\n",
    "#plot_theoric = TM.theoric_rho_A_d\n",
    "#plot_theoric = TM.theoric_rho_A_l\n",
    "#plot_theoric = TM.theoric_rho_A_H\n",
    "#plot_theoric = TM.theoric_rho_A_ad3\n",
    "\n",
    "\n",
    "\n",
    "\n",
    "n_qubits = 2\n",
    "list_p = np.linspace(0,1,21)\n",
    "epochs = 120\n",
    "step_to_start = 85\n",
    "\n",
    "S = Simulate('bf/ClassTest', n_qubits, list_p, epochs, step_to_start, rho_AB, plot_theoric)\n",
    "\n",
    "S.run_calcs()"
   ]
  },
  {
   "cell_type": "code",
   "execution_count": null,
   "metadata": {},
   "outputs": [],
   "source": [
    "from src.simulation import Simulate\n",
    "from src.kraus_maps import QuantumChannels as QCH\n",
    "from src.theoric_channels import TheoricMaps as TM\n",
    "\n",
    "from sympy import pi\n",
    "import numpy as np\n",
    "#----------------------------------------------------------------------------------------\n",
    "# escolha um estado-------------------\n",
    "\n",
    "rho_AB = QCH.rho_AB_pf\n",
    "#rho_AB = QCH.rho_AB_pd(pi/2, 0, 0.5)\n",
    "#rho_AB = QCH.rho_AB_ad(pi/2, 0, 0. 5)\n",
    "#rho_AB = QCH.rho_AB_adg(pi/2, 0, 0. 5)\n",
    "#rho_AB = QCH.rho_AB_d(pi/2, 0, 0. 5)\n",
    "#rho_AB = QCH.rho_AB_l(pi/2, 0, 0. 5)\n",
    "#rho_AB = QCH.rho_AB_H(pi/2, 0, 0. 5)\n",
    "#rho_AB = QCH.rho_AB_ad3(pi/2, 0, 0. 5)\n",
    "\n",
    "#rho_AB = QCH.rho_AB_d(pi/2, 0, 0.5)\n",
    "#----------------------------------------------------------------------------------------\n",
    "plot_theoric = TM.theoric_rho_A_pf\n",
    "#plot_theoric = TM.theoric_rho_A_pd\n",
    "#plot_theoric = TM.theoric_rho_A_ad\n",
    "#plot_theoric = TM.theoric_rho_A_adg\n",
    "#plot_theoric = TM.theoric_rho_A_d\n",
    "#plot_theoric = TM.theoric_rho_A_l\n",
    "#plot_theoric = TM.theoric_rho_A_H\n",
    "#plot_theoric = TM.theoric_rho_A_ad3\n",
    "\n",
    "\n",
    "\n",
    "\n",
    "n_qubits = 2\n",
    "list_p = np.linspace(0,1,21)\n",
    "epochs = 120\n",
    "step_to_start = 85\n",
    "\n",
    "S = Simulate('pf/ClassTest', n_qubits, list_p, epochs, step_to_start, rho_AB, plot_theoric)\n",
    "\n",
    "S.run_calcs()"
   ]
  },
  {
   "cell_type": "code",
   "execution_count": null,
   "metadata": {},
   "outputs": [],
   "source": [
    "from src.simulation import Simulate\n",
    "from src.kraus_maps import QuantumChannels as QCH\n",
    "from src.theoric_channels import TheoricMaps as TM\n",
    "\n",
    "from sympy import pi\n",
    "import numpy as np\n",
    "#----------------------------------------------------------------------------------------\n",
    "# escolha um estado-------------------\n",
    "\n",
    "rho_AB = QCH.rho_AB_pd\n",
    "#rho_AB = QCH.rho_AB_ad(pi/2, 0, 0. 5)\n",
    "#rho_AB = QCH.rho_AB_adg(pi/2, 0, 0. 5)\n",
    "#rho_AB = QCH.rho_AB_d(pi/2, 0, 0. 5)\n",
    "#rho_AB = QCH.rho_AB_l(pi/2, 0, 0. 5)\n",
    "#rho_AB = QCH.rho_AB_H(pi/2, 0, 0. 5)\n",
    "#rho_AB = QCH.rho_AB_ad3(pi/2, 0, 0. 5)\n",
    "\n",
    "#rho_AB = QCH.rho_AB_d(pi/2, 0, 0.5)\n",
    "#----------------------------------------------------------------------------------------\n",
    "plot_theoric = TM.theoric_rho_A_pf\n",
    "\n",
    "\n",
    "\n",
    "\n",
    "n_qubits = 2\n",
    "list_p = np.linspace(0,1,21)\n",
    "epochs = 120\n",
    "step_to_start = 85\n",
    "\n",
    "S = Simulate('pd/ClassTest', n_qubits, list_p, epochs, step_to_start, rho_AB, plot_theoric)\n",
    "\n",
    "S.run_calcs()"
   ]
  },
  {
   "cell_type": "code",
   "execution_count": null,
   "metadata": {},
   "outputs": [],
   "source": [
    "from src.simulation import Simulate\n",
    "from src.kraus_maps import QuantumChannels as QCH\n",
    "from src.theoric_channels import TheoricMaps as TM\n",
    "\n",
    "from sympy import pi\n",
    "import numpy as np\n",
    "#----------------------------------------------------------------------------------------\n",
    "# escolha um estado-------------------\n",
    "\n",
    "rho_AB = QCH.rho_AB_ad\n",
    "#rho_AB = QCH.rho_AB_adg(pi/2, 0, 0. 5)\n",
    "#rho_AB = QCH.rho_AB_d(pi/2, 0, 0. 5)\n",
    "#rho_AB = QCH.rho_AB_l(pi/2, 0, 0. 5)\n",
    "#rho_AB = QCH.rho_AB_H(pi/2, 0, 0. 5)\n",
    "#rho_AB = QCH.rho_AB_ad3(pi/2, 0, 0. 5)\n",
    "\n",
    "#rho_AB = QCH.rho_AB_d(pi/2, 0, 0.5)\n",
    "#----------------------------------------------------------------------------------------\n",
    "plot_theoric = TM.theoric_rho_A_pf\n",
    "\n",
    "\n",
    "\n",
    "\n",
    "n_qubits = 2\n",
    "list_p = np.linspace(0,1,21)\n",
    "epochs = 120\n",
    "step_to_start = 85\n",
    "\n",
    "S = Simulate('ad/ClassTest', n_qubits, list_p, epochs, step_to_start, rho_AB, plot_theoric)\n",
    "\n",
    "S.run_calcs()"
   ]
  },
  {
   "cell_type": "code",
   "execution_count": null,
   "metadata": {},
   "outputs": [],
   "source": []
  },
  {
   "cell_type": "code",
   "execution_count": null,
   "metadata": {},
   "outputs": [],
   "source": []
  },
  {
   "cell_type": "code",
   "execution_count": null,
   "metadata": {},
   "outputs": [],
   "source": []
  },
  {
   "cell_type": "code",
   "execution_count": null,
   "metadata": {},
   "outputs": [],
   "source": []
  },
  {
   "cell_type": "code",
   "execution_count": null,
   "metadata": {},
   "outputs": [],
   "source": []
  }
 ],
 "metadata": {
  "kernelspec": {
   "display_name": "env",
   "language": "python",
   "name": "python3"
  },
  "language_info": {
   "codemirror_mode": {
    "name": "ipython",
    "version": 3
   },
   "file_extension": ".py",
   "mimetype": "text/x-python",
   "name": "python",
   "nbconvert_exporter": "python",
   "pygments_lexer": "ipython3",
   "version": "3.9.13"
  },
  "orig_nbformat": 4
 },
 "nbformat": 4,
 "nbformat_minor": 2
}
